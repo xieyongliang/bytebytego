{
 "cells": [
  {
   "cell_type": "code",
   "execution_count": null,
   "metadata": {},
   "outputs": [
    {
     "name": "stdout",
     "output_type": "stream",
     "text": [
      "torch.Size([16, 32])\n"
     ]
    }
   ],
   "source": [
    "import torch\n",
    "import torch.nn as nn\n",
    "import torch.nn.functional as F\n",
    "\n",
    "class ListingEmbeddingModel(nn.Module):\n",
    "    def __init__(self, num_numerical_features, categorical_sizes, embedding_dim, text_embedding_dim, image_embedding_dim):\n",
    "        super(ListingEmbeddingModel, self).__init__()\n",
    "\n",
    "        # Embedding layers for categorical data\n",
    "        self.categorical_embeddings = nn.ModuleList([\n",
    "            nn.Embedding(cat_size, embedding_dim) for cat_size in categorical_sizes\n",
    "        ])\n",
    "        \n",
    "        # Fully connected layers for numerical features\n",
    "        self.fc_num = nn.Linear(num_numerical_features, 128)\n",
    "        \n",
    "        # Dense layer for concatenating everything\n",
    "        self.fc_final = nn.Linear(128 + len(categorical_sizes) * embedding_dim + text_embedding_dim + image_embedding_dim, 64)\n",
    "        self.output_embedding = nn.Linear(64, 32)  # 32-dim final embedding\n",
    "\n",
    "    def forward(self, numerical_features, categorical_features, text_embeddings, image_embeddings):\n",
    "        # Process categorical features with embeddings\n",
    "        cat_embeds = [self.categorical_embeddings[i](categorical_features[:, i]) for i in range(len(self.categorical_embeddings))]\n",
    "        cat_embeds = torch.cat(cat_embeds, dim=1)\n",
    "\n",
    "        # Process numerical features\n",
    "        num_output = F.relu(self.fc_num(numerical_features))\n",
    "        \n",
    "        # Concatenate numerical features, categorical embeddings, text embeddings, and image embeddings\n",
    "        combined = torch.cat((num_output, cat_embeds, text_embeddings, image_embeddings), dim=1)\n",
    "        \n",
    "        # Pass through fully connected layers\n",
    "        combined_output = F.relu(self.fc_final(combined))\n",
    "        \n",
    "        # Final embedding output\n",
    "        embedding_output = self.output_embedding(combined_output)\n",
    "        return embedding_output\n",
    "\n",
    "# Example input sizes\n",
    "num_numerical_features = 5  # Example: price, number of rooms, etc.\n",
    "categorical_sizes = [10, 20, 30]  # Example: property type, amenity categories, etc.\n",
    "embedding_dim = 8\n",
    "text_embedding_dim = 256  # Example: BERT embeddings\n",
    "image_embedding_dim = 512  # Example: CLIP embeddings\n",
    "\n",
    "# Create model\n",
    "model = ListingEmbeddingModel(num_numerical_features, categorical_sizes, embedding_dim, text_embedding_dim, image_embedding_dim)\n",
    "\n",
    "# Example inputs\n",
    "batch_size = 16\n",
    "numerical_features = torch.rand(batch_size, num_numerical_features)  # batch_size x num_numerical_features\n",
    "categorical_features = [torch.randint(0, categorical_size, (batch_size, 1)) for categorical_size in categorical_sizes]\n",
    "categorical_features = torch.cat(categorical_features, dim=1)\n",
    "text_embeddings = torch.rand(batch_size, text_embedding_dim)  # batch_size x text_embedding_dim\n",
    "image_embeddings = torch.rand(batch_size, image_embedding_dim)  # batch_size x image_embedding_dim\n",
    "\n",
    "# Get embedding output\n",
    "embeddings = model(numerical_features, categorical_features, text_embeddings, image_embeddings)\n",
    "print(embeddings.shape)  # Output: [32, 32], batch of 32 listings with 32-dim embeddings\n"
   ]
  },
  {
   "cell_type": "code",
   "execution_count": 75,
   "metadata": {},
   "outputs": [
    {
     "data": {
      "text/plain": [
       "\"\\npd_session = pd.DataFrame({\\n    'clicked': [1,2,3,4,5],\\n    'slided': [[2,3],[4,5],[1,2],[2,5],[3,4]],\\n    'booked':[2,4,1,2,3]\\n})\\n\""
      ]
     },
     "execution_count": 75,
     "metadata": {},
     "output_type": "execute_result"
    }
   ],
   "source": [
    "import pandas as pd\n",
    "\n",
    "search_session = {\n",
    "    'id': [2,3,2,3,2,3],\n",
    "    'user_id': [18,5,18,5,18,5],\n",
    "    'listing_id': [26,18,8,9,10,11],\n",
    "    'position_of_the_listing': [2,5,3,4,6,7],\n",
    "    'interaction_type': ['Click','Book','impression','click','book','impression'],\n",
    "    'source': ['Search feature','Similar listing feature','Similar listing feature','Search feature','Similar listing feature','Similar listing feature'],\n",
    "    'timestamp': [1655121925, 1655135257, 1655121926, 1655121927, 1655121928, 1655121929]\n",
    "}\n",
    "df_search_session = pd.DataFrame(search_session)\n",
    "\n",
    "'''\n",
    "pd_session = pd.DataFrame({\n",
    "    'clicked': [1,2,3,4,5],\n",
    "    'slided': [[2,3],[4,5],[1,2],[2,5],[3,4]],\n",
    "    'booked':[2,4,1,2,3]\n",
    "})\n",
    "'''"
   ]
  },
  {
   "cell_type": "code",
   "execution_count": 76,
   "metadata": {},
   "outputs": [],
   "source": [
    "df_search_session['time'] = pd.to_datetime(df_search_session['timestamp'], unit='s')"
   ]
  },
  {
   "cell_type": "code",
   "execution_count": 77,
   "metadata": {},
   "outputs": [
    {
     "data": {
      "text/html": [
       "<div>\n",
       "<style scoped>\n",
       "    .dataframe tbody tr th:only-of-type {\n",
       "        vertical-align: middle;\n",
       "    }\n",
       "\n",
       "    .dataframe tbody tr th {\n",
       "        vertical-align: top;\n",
       "    }\n",
       "\n",
       "    .dataframe thead th {\n",
       "        text-align: right;\n",
       "    }\n",
       "</style>\n",
       "<table border=\"1\" class=\"dataframe\">\n",
       "  <thead>\n",
       "    <tr style=\"text-align: right;\">\n",
       "      <th></th>\n",
       "      <th>id</th>\n",
       "      <th>user_id</th>\n",
       "      <th>listing_id</th>\n",
       "      <th>position_of_the_listing</th>\n",
       "      <th>interaction_type</th>\n",
       "      <th>source</th>\n",
       "      <th>timestamp</th>\n",
       "      <th>time</th>\n",
       "    </tr>\n",
       "  </thead>\n",
       "  <tbody>\n",
       "    <tr>\n",
       "      <th>0</th>\n",
       "      <td>2</td>\n",
       "      <td>18</td>\n",
       "      <td>26</td>\n",
       "      <td>2</td>\n",
       "      <td>Click</td>\n",
       "      <td>Search feature</td>\n",
       "      <td>1655121925</td>\n",
       "      <td>2022-06-13 12:05:25</td>\n",
       "    </tr>\n",
       "    <tr>\n",
       "      <th>1</th>\n",
       "      <td>3</td>\n",
       "      <td>5</td>\n",
       "      <td>18</td>\n",
       "      <td>5</td>\n",
       "      <td>Book</td>\n",
       "      <td>Similar listing feature</td>\n",
       "      <td>1655135257</td>\n",
       "      <td>2022-06-13 15:47:37</td>\n",
       "    </tr>\n",
       "    <tr>\n",
       "      <th>2</th>\n",
       "      <td>2</td>\n",
       "      <td>18</td>\n",
       "      <td>8</td>\n",
       "      <td>3</td>\n",
       "      <td>impression</td>\n",
       "      <td>Similar listing feature</td>\n",
       "      <td>1655121926</td>\n",
       "      <td>2022-06-13 12:05:26</td>\n",
       "    </tr>\n",
       "    <tr>\n",
       "      <th>3</th>\n",
       "      <td>3</td>\n",
       "      <td>5</td>\n",
       "      <td>9</td>\n",
       "      <td>4</td>\n",
       "      <td>click</td>\n",
       "      <td>Search feature</td>\n",
       "      <td>1655121927</td>\n",
       "      <td>2022-06-13 12:05:27</td>\n",
       "    </tr>\n",
       "    <tr>\n",
       "      <th>4</th>\n",
       "      <td>2</td>\n",
       "      <td>18</td>\n",
       "      <td>10</td>\n",
       "      <td>6</td>\n",
       "      <td>book</td>\n",
       "      <td>Similar listing feature</td>\n",
       "      <td>1655121928</td>\n",
       "      <td>2022-06-13 12:05:28</td>\n",
       "    </tr>\n",
       "    <tr>\n",
       "      <th>5</th>\n",
       "      <td>3</td>\n",
       "      <td>5</td>\n",
       "      <td>11</td>\n",
       "      <td>7</td>\n",
       "      <td>impression</td>\n",
       "      <td>Similar listing feature</td>\n",
       "      <td>1655121929</td>\n",
       "      <td>2022-06-13 12:05:29</td>\n",
       "    </tr>\n",
       "  </tbody>\n",
       "</table>\n",
       "</div>"
      ],
      "text/plain": [
       "   id  user_id  listing_id  position_of_the_listing interaction_type  \\\n",
       "0   2       18          26                        2            Click   \n",
       "1   3        5          18                        5             Book   \n",
       "2   2       18           8                        3       impression   \n",
       "3   3        5           9                        4            click   \n",
       "4   2       18          10                        6             book   \n",
       "5   3        5          11                        7       impression   \n",
       "\n",
       "                    source   timestamp                time  \n",
       "0           Search feature  1655121925 2022-06-13 12:05:25  \n",
       "1  Similar listing feature  1655135257 2022-06-13 15:47:37  \n",
       "2  Similar listing feature  1655121926 2022-06-13 12:05:26  \n",
       "3           Search feature  1655121927 2022-06-13 12:05:27  \n",
       "4  Similar listing feature  1655121928 2022-06-13 12:05:28  \n",
       "5  Similar listing feature  1655121929 2022-06-13 12:05:29  "
      ]
     },
     "execution_count": 77,
     "metadata": {},
     "output_type": "execute_result"
    }
   ],
   "source": [
    "df_search_session"
   ]
  },
  {
   "cell_type": "code",
   "execution_count": 99,
   "metadata": {},
   "outputs": [],
   "source": [
    "df_session = pd.DataFrame([], columns=['click', 'impression', 'book'])"
   ]
  },
  {
   "cell_type": "code",
   "execution_count": 80,
   "metadata": {},
   "outputs": [],
   "source": [
    "df_search_session.source = df_search_session.source.str.lower()"
   ]
  },
  {
   "cell_type": "code",
   "execution_count": 81,
   "metadata": {},
   "outputs": [],
   "source": [
    "df_search_session.interaction_type = df_search_session.interaction_type.str.lower()"
   ]
  },
  {
   "cell_type": "code",
   "execution_count": 83,
   "metadata": {},
   "outputs": [],
   "source": [
    "df_search_session_groups = df_search_session.groupby(['id'])"
   ]
  },
  {
   "cell_type": "code",
   "execution_count": 100,
   "metadata": {},
   "outputs": [
    {
     "name": "stdout",
     "output_type": "stream",
     "text": [
      "(2,) 26 8 10\n",
      "(3,) 9 11 18\n"
     ]
    }
   ],
   "source": [
    "for key, df_search_session_group in df_search_session_groups:\n",
    "    click_ids = df_search_session_group[df_search_session_group.interaction_type == 'click'].listing_id\n",
    "    impression_ids = df_search_session_group[df_search_session_group.interaction_type == 'impression'].listing_id\n",
    "    book_ids = df_search_session_group[df_search_session_group.interaction_type == 'book'].listing_id\n",
    "    print(key, click_ids.iloc[0], impression_ids.iloc[0], book_ids.iloc[0])\n",
    "    df_session.loc[len(df_session)] = [click_ids.iloc[0], impression_ids.to_list(), book_ids.iloc[0]]"
   ]
  },
  {
   "cell_type": "code",
   "execution_count": 101,
   "metadata": {},
   "outputs": [
    {
     "data": {
      "text/html": [
       "<div>\n",
       "<style scoped>\n",
       "    .dataframe tbody tr th:only-of-type {\n",
       "        vertical-align: middle;\n",
       "    }\n",
       "\n",
       "    .dataframe tbody tr th {\n",
       "        vertical-align: top;\n",
       "    }\n",
       "\n",
       "    .dataframe thead th {\n",
       "        text-align: right;\n",
       "    }\n",
       "</style>\n",
       "<table border=\"1\" class=\"dataframe\">\n",
       "  <thead>\n",
       "    <tr style=\"text-align: right;\">\n",
       "      <th></th>\n",
       "      <th>click</th>\n",
       "      <th>impression</th>\n",
       "      <th>book</th>\n",
       "    </tr>\n",
       "  </thead>\n",
       "  <tbody>\n",
       "    <tr>\n",
       "      <th>0</th>\n",
       "      <td>26</td>\n",
       "      <td>[8]</td>\n",
       "      <td>10</td>\n",
       "    </tr>\n",
       "    <tr>\n",
       "      <th>1</th>\n",
       "      <td>9</td>\n",
       "      <td>[11]</td>\n",
       "      <td>18</td>\n",
       "    </tr>\n",
       "  </tbody>\n",
       "</table>\n",
       "</div>"
      ],
      "text/plain": [
       "   click impression  book\n",
       "0     26        [8]    10\n",
       "1      9       [11]    18"
      ]
     },
     "execution_count": 101,
     "metadata": {},
     "output_type": "execute_result"
    }
   ],
   "source": [
    "df_session"
   ]
  },
  {
   "cell_type": "code",
   "execution_count": 102,
   "metadata": {},
   "outputs": [],
   "source": [
    "import numpy as np\n",
    "import random\n",
    "\n",
    "n = 100\n",
    "x = np.arange(n)\n",
    "\n",
    "df = pd.DataFrame([], columns=['A', 'B', 'C'])\n",
    "\n",
    "k = 5\n",
    "ns = min(k - 1, n - k - 1)\n",
    "\n",
    "for i in range(k // 2, n - 1 - k // 2):\n",
    "    center = x[i]\n",
    "    left = i - k // 2\n",
    "    right = i + k // 2\n",
    "    for j in range(left, i):\n",
    "        df.loc[len(df)] = [x[j], x[i], 1]\n",
    "    for j in range(i + 1, right + 1):\n",
    "        df.loc[len(df)] = [x[i], x[j], 1]\n",
    "    negative = np.concatenate([x[0:left], x[right + 1 : n - 1]], axis=0)\n",
    "    sample = random.sample(negative.tolist(), ns)\n",
    "    for s in sample:\n",
    "        df.loc[len(df)] = [x[i], s, -1]\n",
    "    df.loc[len(df)] = [x[i], x[n - 1], 1]"
   ]
  },
  {
   "cell_type": "code",
   "execution_count": 103,
   "metadata": {},
   "outputs": [
    {
     "data": {
      "text/html": [
       "<div>\n",
       "<style scoped>\n",
       "    .dataframe tbody tr th:only-of-type {\n",
       "        vertical-align: middle;\n",
       "    }\n",
       "\n",
       "    .dataframe tbody tr th {\n",
       "        vertical-align: top;\n",
       "    }\n",
       "\n",
       "    .dataframe thead th {\n",
       "        text-align: right;\n",
       "    }\n",
       "</style>\n",
       "<table border=\"1\" class=\"dataframe\">\n",
       "  <thead>\n",
       "    <tr style=\"text-align: right;\">\n",
       "      <th></th>\n",
       "      <th>A</th>\n",
       "      <th>B</th>\n",
       "      <th>C</th>\n",
       "    </tr>\n",
       "  </thead>\n",
       "  <tbody>\n",
       "    <tr>\n",
       "      <th>0</th>\n",
       "      <td>0</td>\n",
       "      <td>2</td>\n",
       "      <td>1</td>\n",
       "    </tr>\n",
       "    <tr>\n",
       "      <th>1</th>\n",
       "      <td>1</td>\n",
       "      <td>2</td>\n",
       "      <td>1</td>\n",
       "    </tr>\n",
       "    <tr>\n",
       "      <th>2</th>\n",
       "      <td>2</td>\n",
       "      <td>3</td>\n",
       "      <td>1</td>\n",
       "    </tr>\n",
       "    <tr>\n",
       "      <th>3</th>\n",
       "      <td>2</td>\n",
       "      <td>4</td>\n",
       "      <td>1</td>\n",
       "    </tr>\n",
       "    <tr>\n",
       "      <th>4</th>\n",
       "      <td>2</td>\n",
       "      <td>63</td>\n",
       "      <td>-1</td>\n",
       "    </tr>\n",
       "    <tr>\n",
       "      <th>5</th>\n",
       "      <td>2</td>\n",
       "      <td>51</td>\n",
       "      <td>-1</td>\n",
       "    </tr>\n",
       "    <tr>\n",
       "      <th>6</th>\n",
       "      <td>2</td>\n",
       "      <td>8</td>\n",
       "      <td>-1</td>\n",
       "    </tr>\n",
       "    <tr>\n",
       "      <th>7</th>\n",
       "      <td>2</td>\n",
       "      <td>76</td>\n",
       "      <td>-1</td>\n",
       "    </tr>\n",
       "    <tr>\n",
       "      <th>8</th>\n",
       "      <td>2</td>\n",
       "      <td>99</td>\n",
       "      <td>1</td>\n",
       "    </tr>\n",
       "    <tr>\n",
       "      <th>9</th>\n",
       "      <td>1</td>\n",
       "      <td>3</td>\n",
       "      <td>1</td>\n",
       "    </tr>\n",
       "  </tbody>\n",
       "</table>\n",
       "</div>"
      ],
      "text/plain": [
       "   A   B  C\n",
       "0  0   2  1\n",
       "1  1   2  1\n",
       "2  2   3  1\n",
       "3  2   4  1\n",
       "4  2  63 -1\n",
       "5  2  51 -1\n",
       "6  2   8 -1\n",
       "7  2  76 -1\n",
       "8  2  99  1\n",
       "9  1   3  1"
      ]
     },
     "execution_count": 103,
     "metadata": {},
     "output_type": "execute_result"
    }
   ],
   "source": [
    "df.head(n=10)"
   ]
  }
 ],
 "metadata": {
  "kernelspec": {
   "display_name": ".venv",
   "language": "python",
   "name": "python3"
  },
  "language_info": {
   "codemirror_mode": {
    "name": "ipython",
    "version": 3
   },
   "file_extension": ".py",
   "mimetype": "text/x-python",
   "name": "python",
   "nbconvert_exporter": "python",
   "pygments_lexer": "ipython3",
   "version": "3.9.6"
  }
 },
 "nbformat": 4,
 "nbformat_minor": 2
}
