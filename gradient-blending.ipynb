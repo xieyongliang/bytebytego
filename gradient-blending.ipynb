{
 "cells": [
  {
   "cell_type": "code",
   "execution_count": 1,
   "metadata": {},
   "outputs": [],
   "source": [
    "import numpy as np\n",
    "\n",
    "# 假设我们有 3 个模型在验证集上的预测结果\n",
    "model1_preds = np.array([0.1, 0.4, 0.7, 0.2])  # 模型 1 的预测\n",
    "model2_preds = np.array([0.3, 0.5, 0.6, 0.1])  # 模型 2 的预测\n",
    "model3_preds = np.array([0.2, 0.6, 0.5, 0.3])  # 模型 3 的预测\n",
    "\n",
    "# 验证集的真实标签\n",
    "y_true = np.array([0, 1, 1, 0])"
   ]
  },
  {
   "cell_type": "code",
   "execution_count": 4,
   "metadata": {},
   "outputs": [
    {
     "name": "stdout",
     "output_type": "stream",
     "text": [
      "Epoch 10, Loss: 0.7492190599441528, Weights: [ 0.07998775  0.6723446  -1.098926  ]\n",
      "Epoch 20, Loss: 0.5639768242835999, Weights: [ 0.17677146  0.7690733  -1.0020788 ]\n",
      "Epoch 30, Loss: 0.4153858423233032, Weights: [ 0.26829726  0.86044323 -0.91037387]\n",
      "Epoch 40, Loss: 0.30167728662490845, Weights: [ 0.35250694  0.9443403  -0.82580614]\n",
      "Epoch 50, Loss: 0.21864502131938934, Weights: [ 0.42796835  1.0192796  -0.7497488 ]\n",
      "Epoch 60, Loss: 0.16081252694129944, Weights: [ 0.49386555  1.0843999  -0.6829681 ]\n",
      "Epoch 70, Loss: 0.12244774401187897, Weights: [ 0.5499256  1.139394  -0.6256992]\n",
      "Epoch 80, Loss: 0.0982629656791687, Weights: [ 0.59634125  1.1844329  -0.57772744]\n",
      "Epoch 90, Loss: 0.08381405472755432, Weights: [ 0.6336914  1.2200884 -0.5384674]\n",
      "Epoch 100, Loss: 0.07565441727638245, Weights: [ 0.66285425  1.2472448  -0.50705045]\n",
      "最终权重: [ 0.66285425  1.2472448  -0.50705045]\n"
     ]
    }
   ],
   "source": [
    "import torch\n",
    "import torch.nn as nn\n",
    "import torch.optim as optim\n",
    "\n",
    "# 将预测结果转换为 PyTorch 张量\n",
    "X = torch.tensor(np.vstack([model1_preds, model2_preds, model3_preds])).float().T  # (num_samples, num_models)\n",
    "y = torch.tensor(y_true).float() # (num_samples, )\n",
    "\n",
    "# 定义可学习的权重\n",
    "weights = torch.randn(3, requires_grad=True)  # 初始化权重 (num_models, )\n",
    "\n",
    "# 定义优化器\n",
    "optimizer = optim.Adam([weights], lr=0.01)\n",
    "\n",
    "# 定义损失函数（如均方误差）\n",
    "criterion = nn.MSELoss()\n",
    "\n",
    "# 梯度优化\n",
    "for epoch in range(100):\n",
    "    optimizer.zero_grad()\n",
    "    \n",
    "    # 加权平均\n",
    "    blended_preds = torch.matmul(X, weights)\n",
    "    \n",
    "    # 计算损失\n",
    "    loss = criterion(blended_preds, y)\n",
    "    \n",
    "    # 反向传播\n",
    "    loss.backward()\n",
    "    \n",
    "    # 更新权重\n",
    "    optimizer.step()\n",
    "    \n",
    "    if (epoch + 1) % 10 == 0:\n",
    "        print(f\"Epoch {epoch + 1}, Loss: {loss.item()}, Weights: {weights.detach().numpy()}\")\n",
    "\n",
    "# 最终权重\n",
    "final_weights = weights.detach().numpy()\n",
    "print(\"最终权重:\", final_weights)"
   ]
  },
  {
   "cell_type": "code",
   "execution_count": 5,
   "metadata": {},
   "outputs": [
    {
     "name": "stdout",
     "output_type": "stream",
     "text": [
      "集成后的预测结果: [0.1051802  0.59634412 0.58453385]\n"
     ]
    }
   ],
   "source": [
    "# 测试集的预测结果\n",
    "test_model1_preds = np.array([0.2, 0.3, 0.4])  # 模型 1 的预测\n",
    "test_model2_preds = np.array([0.1, 0.4, 0.5])  # 模型 2 的预测\n",
    "test_model3_preds = np.array([0.3, 0.2, 0.6])  # 模型 3 的预测\n",
    "\n",
    "# 加权平均\n",
    "test_blended_preds = (\n",
    "    final_weights[0] * test_model1_preds +\n",
    "    final_weights[1] * test_model2_preds +\n",
    "    final_weights[2] * test_model3_preds\n",
    ")\n",
    "\n",
    "print(\"集成后的预测结果:\", test_blended_preds)"
   ]
  }
 ],
 "metadata": {
  "kernelspec": {
   "display_name": ".venv",
   "language": "python",
   "name": "python3"
  },
  "language_info": {
   "codemirror_mode": {
    "name": "ipython",
    "version": 3
   },
   "file_extension": ".py",
   "mimetype": "text/x-python",
   "name": "python",
   "nbconvert_exporter": "python",
   "pygments_lexer": "ipython3",
   "version": "3.9.6"
  }
 },
 "nbformat": 4,
 "nbformat_minor": 2
}
