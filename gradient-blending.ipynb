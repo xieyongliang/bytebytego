{
 "cells": [
  {
   "cell_type": "code",
   "execution_count": 1,
   "metadata": {},
   "outputs": [],
   "source": [
    "import numpy as np\n",
    "\n",
    "# 假设我们有 3 个模型在验证集上的预测结果\n",
    "model1_preds = np.array([0.1, 0.4, 0.7, 0.2])  # 模型 1 的预测\n",
    "model2_preds = np.array([0.3, 0.5, 0.6, 0.1])  # 模型 2 的预测\n",
    "model3_preds = np.array([0.2, 0.6, 0.5, 0.3])  # 模型 3 的预测\n",
    "\n",
    "# 验证集的真实标签\n",
    "y_true = np.array([0, 1, 1, 0])"
   ]
  },
  {
   "cell_type": "code",
   "execution_count": 2,
   "metadata": {},
   "outputs": [
    {
     "name": "stdout",
     "output_type": "stream",
     "text": [
      "tensor([[0.1000, 0.3000, 0.2000],\n",
      "        [0.4000, 0.5000, 0.6000],\n",
      "        [0.7000, 0.6000, 0.5000],\n",
      "        [0.2000, 0.1000, 0.3000]])\n",
      "tensor([0., 1., 1., 0.])\n",
      "Epoch 10, Loss: 0.29084205627441406, Weights: [ 1.9418772   1.0819614  -0.30900717]\n",
      "Epoch 20, Loss: 0.1950782835483551, Weights: [ 1.8474228  0.9877545 -0.4028126]\n",
      "Epoch 30, Loss: 0.13286006450653076, Weights: [ 1.7624931   0.90357804 -0.48575383]\n",
      "Epoch 40, Loss: 0.09818239510059357, Weights: [ 1.6910739   0.83374727 -0.55295247]\n",
      "Epoch 50, Loss: 0.08221457898616791, Weights: [ 1.6353675   0.78073955 -0.6014543 ]\n",
      "Epoch 60, Loss: 0.07643533498048782, Weights: [ 1.5952678   0.74457186 -0.6310304 ]\n",
      "Epoch 70, Loss: 0.07486043125391006, Weights: [ 1.5685368   0.72294414 -0.6440989 ]\n",
      "Epoch 80, Loss: 0.07443607598543167, Weights: [ 1.5516226   0.71210593 -0.6447627 ]\n",
      "Epoch 90, Loss: 0.07411471009254456, Weights: [ 1.5407176   0.70800346 -0.6374962 ]\n",
      "Epoch 100, Loss: 0.07373012602329254, Weights: [ 1.5326091   0.7072035  -0.62609583]\n",
      "最终权重: [ 1.5326091   0.7072035  -0.62609583]\n"
     ]
    }
   ],
   "source": [
    "import torch\n",
    "import torch.nn as nn\n",
    "import torch.optim as optim\n",
    "\n",
    "# 将预测结果转换为 PyTorch 张量\n",
    "X = torch.tensor(np.vstack([model1_preds, model2_preds, model3_preds])).float().T  # (num_samples, num_models)\n",
    "y = torch.tensor(y_true).float() # (num_samples, )\n",
    "print(X)\n",
    "print(y)\n",
    "\n",
    "# 定义可学习的权重\n",
    "weights = torch.randn(3, requires_grad=True)  # 初始化权重 (num_models, )\n",
    "\n",
    "# 定义优化器\n",
    "optimizer = optim.Adam([weights], lr=0.01)\n",
    "\n",
    "# 定义损失函数（如均方误差）\n",
    "criterion = nn.MSELoss()\n",
    "\n",
    "# 梯度优化\n",
    "for epoch in range(100):\n",
    "    optimizer.zero_grad()\n",
    "    \n",
    "    # 加权平均\n",
    "    blended_preds = torch.matmul(X, weights)\n",
    "    \n",
    "    # 计算损失\n",
    "    loss = criterion(blended_preds, y)\n",
    "    \n",
    "    # 反向传播\n",
    "    loss.backward()\n",
    "    \n",
    "    # 更新权重\n",
    "    optimizer.step()\n",
    "    \n",
    "    if (epoch + 1) % 10 == 0:\n",
    "        print(f\"Epoch {epoch + 1}, Loss: {loss.item()}, Weights: {weights.detach().numpy()}\")\n",
    "\n",
    "# 最终权重\n",
    "final_weights = weights.detach().numpy()\n",
    "print(\"最终权重:\", final_weights)"
   ]
  },
  {
   "cell_type": "code",
   "execution_count": 5,
   "metadata": {},
   "outputs": [
    {
     "name": "stdout",
     "output_type": "stream",
     "text": [
      "集成后的预测结果: [0.1051802  0.59634412 0.58453385]\n"
     ]
    }
   ],
   "source": [
    "# 测试集的预测结果\n",
    "test_model1_preds = np.array([0.2, 0.3, 0.4])  # 模型 1 的预测\n",
    "test_model2_preds = np.array([0.1, 0.4, 0.5])  # 模型 2 的预测\n",
    "test_model3_preds = np.array([0.3, 0.2, 0.6])  # 模型 3 的预测\n",
    "\n",
    "# 加权平均\n",
    "test_blended_preds = (\n",
    "    final_weights[0] * test_model1_preds +\n",
    "    final_weights[1] * test_model2_preds +\n",
    "    final_weights[2] * test_model3_preds\n",
    ")\n",
    "\n",
    "print(\"集成后的预测结果:\", test_blended_preds)"
   ]
  }
 ],
 "metadata": {
  "kernelspec": {
   "display_name": ".venv",
   "language": "python",
   "name": "python3"
  },
  "language_info": {
   "codemirror_mode": {
    "name": "ipython",
    "version": 3
   },
   "file_extension": ".py",
   "mimetype": "text/x-python",
   "name": "python",
   "nbconvert_exporter": "python",
   "pygments_lexer": "ipython3",
   "version": "3.9.6"
  }
 },
 "nbformat": 4,
 "nbformat_minor": 2
}
