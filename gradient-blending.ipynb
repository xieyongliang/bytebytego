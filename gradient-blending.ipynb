{
 "cells": [
  {
   "cell_type": "code",
   "execution_count": 2,
   "metadata": {},
   "outputs": [],
   "source": [
    "import numpy as np\n",
    "\n",
    "# 假设我们有 3 个模型在验证集上的预测结果\n",
    "model1_preds = np.array([0.1, 0.4, 0.7, 0.2])  # 模型 1 的预测\n",
    "model2_preds = np.array([0.3, 0.5, 0.6, 0.1])  # 模型 2 的预测\n",
    "model3_preds = np.array([0.2, 0.6, 0.5, 0.3])  # 模型 3 的预测\n",
    "\n",
    "# 验证集的真实标签\n",
    "y_true = np.array([0, 1, 1, 0])"
   ]
  },
  {
   "cell_type": "code",
   "execution_count": 4,
   "metadata": {},
   "outputs": [
    {
     "name": "stdout",
     "output_type": "stream",
     "text": [
      "Epoch 10, Loss: 1.0332878828048706, Weights: [-1.3787168 -1.0792825  1.7822921]\n",
      "Epoch 20, Loss: 0.8205707669258118, Weights: [-1.2813904 -0.9820569  1.8792554]\n",
      "Epoch 30, Loss: 0.6449411511421204, Weights: [-1.1883659 -0.8893121  1.9712657]\n",
      "Epoch 40, Loss: 0.5052277445793152, Weights: [-1.1012477 -0.8027444  2.0563755]\n",
      "Epoch 50, Loss: 0.3979623019695282, Weights: [-1.0211207  -0.72352177  2.1331828 ]\n",
      "Epoch 60, Loss: 0.31838950514793396, Weights: [-0.9486005  -0.65232986  2.200796  ]\n",
      "Epoch 70, Loss: 0.26132893562316895, Weights: [-0.88392144 -0.58945894  2.2587569 ]\n",
      "Epoch 80, Loss: 0.2217714488506317, Weights: [-0.82701266 -0.53487694  2.3069746 ]\n",
      "Epoch 90, Loss: 0.19524317979812622, Weights: [-0.777554   -0.48828435  2.3456783 ]\n",
      "Epoch 100, Loss: 0.17799486219882965, Weights: [-0.7350239  -0.44916192  2.3753712 ]\n",
      "最终权重: [-0.7350239  -0.44916192  2.3753712 ]\n"
     ]
    }
   ],
   "source": [
    "import torch\n",
    "import torch.nn as nn\n",
    "import torch.optim as optim\n",
    "\n",
    "# 将预测结果转换为 PyTorch 张量\n",
    "X = torch.tensor(np.vstack([model1_preds, model2_preds, model3_preds])).float().T  # (num_samples, num_models)\n",
    "y = torch.tensor(y_true).float()\n",
    "\n",
    "# 定义可学习的权重\n",
    "weights = torch.randn(3, requires_grad=True)  # 初始化权重\n",
    "\n",
    "# 定义优化器\n",
    "optimizer = optim.Adam([weights], lr=0.01)\n",
    "\n",
    "# 定义损失函数（如均方误差）\n",
    "criterion = nn.MSELoss()\n",
    "\n",
    "# 梯度优化\n",
    "for epoch in range(100):\n",
    "    optimizer.zero_grad()\n",
    "    \n",
    "    # 加权平均\n",
    "    blended_preds = torch.matmul(X, weights)\n",
    "    \n",
    "    # 计算损失\n",
    "    loss = criterion(blended_preds, y)\n",
    "    \n",
    "    # 反向传播\n",
    "    loss.backward()\n",
    "    \n",
    "    # 更新权重\n",
    "    optimizer.step()\n",
    "    \n",
    "    if (epoch + 1) % 10 == 0:\n",
    "        print(f\"Epoch {epoch + 1}, Loss: {loss.item()}, Weights: {weights.detach().numpy()}\")\n",
    "\n",
    "# 最终权重\n",
    "final_weights = weights.detach().numpy()\n",
    "print(\"最终权重:\", final_weights)"
   ]
  },
  {
   "cell_type": "code",
   "execution_count": null,
   "metadata": {},
   "outputs": [],
   "source": [
    "# 测试集的预测结果\n",
    "test_model1_preds = np.array([0.2, 0.3, 0.4])  # 模型 1 的预测\n",
    "test_model2_preds = np.array([0.1, 0.4, 0.5])  # 模型 2 的预测\n",
    "test_model3_preds = np.array([0.3, 0.2, 0.6])  # 模型 3 的预测\n",
    "\n",
    "# 加权平均\n",
    "test_blended_preds = (\n",
    "    final_weights[0] * test_model1_preds +\n",
    "    final_weights[1] * test_model2_preds +\n",
    "    final_weights[2] * test_model3_preds\n",
    ")\n",
    "\n",
    "print(\"集成后的预测结果:\", test_blended_preds)"
   ]
  }
 ],
 "metadata": {
  "kernelspec": {
   "display_name": ".venv",
   "language": "python",
   "name": "python3"
  },
  "language_info": {
   "codemirror_mode": {
    "name": "ipython",
    "version": 3
   },
   "file_extension": ".py",
   "mimetype": "text/x-python",
   "name": "python",
   "nbconvert_exporter": "python",
   "pygments_lexer": "ipython3",
   "version": "3.9.6"
  }
 },
 "nbformat": 4,
 "nbformat_minor": 2
}
