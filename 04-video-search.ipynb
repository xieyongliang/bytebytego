{
 "cells": [
  {
   "cell_type": "code",
   "execution_count": 3,
   "metadata": {},
   "outputs": [
    {
     "name": "stderr",
     "output_type": "stream",
     "text": [
      "[nltk_data] Downloading package wordnet to\n",
      "[nltk_data]     /Users/yonglxie/nltk_data...\n",
      "[nltk_data]   Package wordnet is already up-to-date!\n",
      "[nltk_data] Downloading package omw-1.4 to\n",
      "[nltk_data]     /Users/yonglxie/nltk_data...\n",
      "[nltk_data]   Package omw-1.4 is already up-to-date!\n"
     ]
    }
   ],
   "source": [
    "import re\n",
    "import unicodedata\n",
    "from nltk.corpus import wordnet\n",
    "from nltk.stem import WordNetLemmatizer\n",
    "import nltk\n",
    "\n",
    "# Ensure you have downloaded the wordnet corpus from NLTK\n",
    "nltk.download('wordnet')\n",
    "nltk.download('omw-1.4')\n",
    "\n",
    "def normalize_text(text):\n",
    "    # Lowercase the text\n",
    "    text = text.lower()\n",
    "    \n",
    "    # Remove punctuation (keep only letters and numbers)\n",
    "    text = re.sub(r'[^\\w\\s]', '', text)\n",
    "    \n",
    "    # Trim leading, trailing, and multiple whitespaces\n",
    "    text = re.sub(r'\\s+', ' ', text).strip()\n",
    "    \n",
    "    # Normalize using NFKD (decompose combined graphemes)\n",
    "    text = unicodedata.normalize('NFKD', text)\n",
    "    \n",
    "    # Strip accents\n",
    "    text = ''.join([c for c in text if not unicodedata.combining(c)])\n",
    "    \n",
    "    # Lemmatize the text\n",
    "    lemmatizer = WordNetLemmatizer()\n",
    "    words = text.split()\n",
    "    lemmatized_words = [lemmatizer.lemmatize(word) for word in words]\n",
    "    \n",
    "    # Join the lemmatized words back into a sentence\n",
    "    normalized_text = ' '.join(lemmatized_words)\n",
    "    \n",
    "    return normalized_text\n",
    "\n",
    "# Example usage\n",
    "sample_text = \"Màlaga is a beautiful city! Noël walked quickly to catch the bus.\"\n",
    "normalized_text = normalize_text(sample_text)\n"
   ]
  },
  {
   "cell_type": "code",
   "execution_count": 6,
   "metadata": {},
   "outputs": [
    {
     "name": "stdout",
     "output_type": "stream",
     "text": [
      "Màlaga is a beautiful city! Noël walked quickly to catch the bus. \n",
      " malaga is a beautiful city noel walked quickly to catch the bus\n"
     ]
    }
   ],
   "source": [
    "print(sample_text, '\\n', normalized_text)"
   ]
  },
  {
   "cell_type": "code",
   "execution_count": 1,
   "metadata": {},
   "outputs": [
    {
     "name": "stdout",
     "output_type": "stream",
     "text": [
      "Video: /Users/yonglxie/Downloads/arab.mp4, Similarity: 0.2508220672607422\n",
      "Video: /Users/yonglxie/Downloads/金融行业智能化全渠道联络中心ConnectNow联合解决方案——多语言翻译机总结.mp4, Similarity: 0.20997147262096405\n"
     ]
    }
   ],
   "source": [
    "import os\n",
    "import torch\n",
    "import clip\n",
    "import cv2\n",
    "from PIL import Image\n",
    "\n",
    "# Load the CLIP model\n",
    "device = \"cuda\" if torch.cuda.is_available() else \"cpu\"\n",
    "model, preprocess = clip.load(\"ViT-B/32\", device=device)\n",
    "\n",
    "# Function to extract frames from video\n",
    "def extract_frames(video_path, frame_rate=1):\n",
    "    video = cv2.VideoCapture(video_path)\n",
    "    frames = []\n",
    "    count = 0\n",
    "    while True:\n",
    "        ret, frame = video.read()\n",
    "        if not ret:\n",
    "            break\n",
    "        if count % frame_rate == 0:  # Extract 1 frame per second\n",
    "            frames.append(cv2.cvtColor(frame, cv2.COLOR_BGR2RGB))  # Convert to RGB\n",
    "        count += 1\n",
    "    video.release()\n",
    "    return frames\n",
    "\n",
    "# Function to get image embeddings from CLIP\n",
    "def get_image_embeddings(frames):\n",
    "    embeddings = []\n",
    "    for frame in frames:\n",
    "        image = Image.fromarray(frame)\n",
    "        image = preprocess(image).unsqueeze(0).to(device)\n",
    "        with torch.no_grad():\n",
    "            image_features = model.encode_image(image)\n",
    "            embeddings.append(image_features)\n",
    "    return torch.cat(embeddings)\n",
    "\n",
    "# Function to search videos based on text query\n",
    "def search_videos(query, video_paths, frame_rate=1):\n",
    "    # Get text embedding\n",
    "    text = clip.tokenize([query]).to(device)\n",
    "    with torch.no_grad():\n",
    "        text_embedding = model.encode_text(text)\n",
    "\n",
    "    # Iterate over each video\n",
    "    results = []\n",
    "    for video_path in video_paths:\n",
    "        frames = extract_frames(video_path, frame_rate)\n",
    "        video_embeddings = get_image_embeddings(frames)\n",
    "        \n",
    "        # Compute cosine similarity between text and video frames\n",
    "        similarities = torch.nn.functional.cosine_similarity(text_embedding, video_embeddings)\n",
    "        max_similarity = similarities.max().item()\n",
    "\n",
    "        # Store the max similarity score and the corresponding video path\n",
    "        results.append((max_similarity, video_path))\n",
    "    \n",
    "    # Sort videos by similarity\n",
    "    results.sort(reverse=True, key=lambda x: x[0])\n",
    "    return results\n",
    "\n",
    "# Example usage:\n",
    "video_dir = \"/Users/yonglxie/Downloads\"\n",
    "video_files = [os.path.join(video_dir, f) for f in os.listdir(video_dir) if f.endswith('.mp4')]\n",
    "\n",
    "# Text query to search\n",
    "query = \"a person riding a horse\"\n",
    "\n",
    "# Perform search\n",
    "search_results = search_videos(query, video_files)\n",
    "\n",
    "# Output the sorted video files based on similarity\n",
    "for similarity, video_path in search_results:\n",
    "    print(f\"Video: {video_path}, Similarity: {similarity}\")"
   ]
  }
 ],
 "metadata": {
  "kernelspec": {
   "display_name": ".venv",
   "language": "python",
   "name": "python3"
  },
  "language_info": {
   "codemirror_mode": {
    "name": "ipython",
    "version": 3
   },
   "file_extension": ".py",
   "mimetype": "text/x-python",
   "name": "python",
   "nbconvert_exporter": "python",
   "pygments_lexer": "ipython3",
   "version": "3.9.6"
  }
 },
 "nbformat": 4,
 "nbformat_minor": 2
}
