{
 "cells": [
  {
   "cell_type": "code",
   "execution_count": null,
   "metadata": {},
   "outputs": [],
   "source": [
    "'''\n",
    "train: /path/to/train/images\n",
    "val: /path/to/val/images\n",
    "\n",
    "nc: 2  # number of classes\n",
    "names: ['class1', 'class2']  # class names\n",
    "'''"
   ]
  },
  {
   "cell_type": "code",
   "execution_count": 1,
   "metadata": {},
   "outputs": [
    {
     "data": {
      "text/plain": [
       "'\\ngit clone https://github.com/ultralytics/yolov5.git\\ncd yolov5\\npip install -r requirements.txt\\n'"
      ]
     },
     "execution_count": 1,
     "metadata": {},
     "output_type": "execute_result"
    }
   ],
   "source": [
    "'''\n",
    "git clone https://github.com/ultralytics/yolov5.git\n",
    "cd yolov5\n",
    "pip install -r requirements.txt\n",
    "'''"
   ]
  },
  {
   "cell_type": "code",
   "execution_count": null,
   "metadata": {},
   "outputs": [],
   "source": [
    "import torch\n",
    "\n",
    "# Set the path to your dataset YAML file\n",
    "dataset_yaml = '/path/to/custom_dataset.yaml'\n",
    "\n",
    "# Model selection: You can choose yolov5s, yolov5m, yolov5l, or yolov5x depending on your needs\n",
    "model = torch.hub.load('ultralytics/yolov5', 'yolov5s', pretrained=True)\n",
    "\n",
    "# Start training (fine-tuning)\n",
    "model.train(\n",
    "    data=dataset_yaml,       # Path to the dataset YAML file\n",
    "    epochs=50,               # Number of epochs to train\n",
    "    batch_size=16,           # Batch size\n",
    "    img_size=640,            # Image size for training\n",
    "    device=0,                # Device to train on (0: GPU, 'cpu' for CPU)\n",
    "    project='runs/train',    # Save location\n",
    "    name='exp_custom',       # Experiment name\n",
    "    exist_ok=False,          # Whether to overwrite existing runs\n",
    "    workers=4                # Number of data loader workers\n",
    ")\n",
    "\n",
    "# Validate after training (optional)\n",
    "model.val(data=dataset_yaml)  # Evaluate the model performance on validation data\n"
   ]
  },
  {
   "cell_type": "code",
   "execution_count": null,
   "metadata": {},
   "outputs": [],
   "source": [
    "# Load the best model after training\n",
    "model = torch.hub.load('ultralytics/yolov5', 'custom', path='runs/train/exp_custom/weights/best.pt')\n",
    "\n",
    "# Run inference on an image\n",
    "results = model('/path/to/image.jpg')\n",
    "\n",
    "# Show results\n",
    "results.show()\n",
    "\n",
    "# Print results\n",
    "print(results.pandas().xyxy[0])  # Get bounding box predictions in a pandas DataFrame\n"
   ]
  }
 ],
 "metadata": {
  "kernelspec": {
   "display_name": ".venv",
   "language": "python",
   "name": "python3"
  },
  "language_info": {
   "codemirror_mode": {
    "name": "ipython",
    "version": 3
   },
   "file_extension": ".py",
   "mimetype": "text/x-python",
   "name": "python",
   "nbconvert_exporter": "python",
   "pygments_lexer": "ipython3",
   "version": "3.9.6"
  }
 },
 "nbformat": 4,
 "nbformat_minor": 2
}
