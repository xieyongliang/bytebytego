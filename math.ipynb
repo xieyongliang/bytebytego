{
 "cells": [
  {
   "cell_type": "code",
   "execution_count": 1,
   "metadata": {},
   "outputs": [],
   "source": [
    "import numpy as np\n",
    "\n",
    "def softmax(x):\n",
    "    exp_x = np.exp(x - np.max(x))\n",
    "    return exp_x / np.sum(exp_x)"
   ]
  },
  {
   "cell_type": "code",
   "execution_count": 2,
   "metadata": {},
   "outputs": [
    {
     "name": "stdout",
     "output_type": "stream",
     "text": [
      "[0.09003057 0.24472847 0.66524096]\n"
     ]
    }
   ],
   "source": [
    "x = [1, 2, 3]\n",
    "print(softmax(x))"
   ]
  },
  {
   "cell_type": "code",
   "execution_count": 3,
   "metadata": {},
   "outputs": [
    {
     "name": "stdout",
     "output_type": "stream",
     "text": [
      "1.0185179881672439e-09\n"
     ]
    }
   ],
   "source": [
    "import numpy as np\n",
    "\n",
    "def loss_function(theta):\n",
    "    return theta ** 2\n",
    "\n",
    "def gradient(theta):\n",
    "    return 2 * theta\n",
    "\n",
    "theta = 5\n",
    "learning_rate = 0.1\n",
    "epochs = 100\n",
    "\n",
    "for _ in range(epochs):\n",
    "    theta = theta - learning_rate * gradient(theta)\n",
    "\n",
    "print(theta)"
   ]
  },
  {
   "cell_type": "code",
   "execution_count": 5,
   "metadata": {},
   "outputs": [
    {
     "name": "stdout",
     "output_type": "stream",
     "text": [
      "X, y: [[0.74908024]\n",
      " [1.90142861]\n",
      " [1.46398788]\n",
      " [1.19731697]\n",
      " [0.31203728]\n",
      " [0.31198904]\n",
      " [0.11616722]\n",
      " [1.73235229]\n",
      " [1.20223002]\n",
      " [1.41614516]\n",
      " [0.04116899]\n",
      " [1.9398197 ]\n",
      " [1.66488528]\n",
      " [0.42467822]\n",
      " [0.36364993]\n",
      " [0.36680902]\n",
      " [0.60848449]\n",
      " [1.04951286]\n",
      " [0.86389004]\n",
      " [0.58245828]\n",
      " [1.22370579]\n",
      " [0.27898772]\n",
      " [0.5842893 ]\n",
      " [0.73272369]\n",
      " [0.91213997]\n",
      " [1.57035192]\n",
      " [0.39934756]\n",
      " [1.02846888]\n",
      " [1.18482914]\n",
      " [0.09290083]\n",
      " [1.2150897 ]\n",
      " [0.34104825]\n",
      " [0.13010319]\n",
      " [1.89777107]\n",
      " [1.93126407]\n",
      " [1.6167947 ]\n",
      " [0.60922754]\n",
      " [0.19534423]\n",
      " [1.36846605]\n",
      " [0.88030499]\n",
      " [0.24407647]\n",
      " [0.99035382]\n",
      " [0.06877704]\n",
      " [1.8186408 ]\n",
      " [0.51755996]\n",
      " [1.32504457]\n",
      " [0.62342215]\n",
      " [1.04013604]\n",
      " [1.09342056]\n",
      " [0.36970891]\n",
      " [1.93916926]\n",
      " [1.55026565]\n",
      " [1.87899788]\n",
      " [1.7896547 ]\n",
      " [1.19579996]\n",
      " [1.84374847]\n",
      " [0.176985  ]\n",
      " [0.39196572]\n",
      " [0.09045458]\n",
      " [0.65066066]\n",
      " [0.77735458]\n",
      " [0.54269806]\n",
      " [1.65747502]\n",
      " [0.71350665]\n",
      " [0.56186902]\n",
      " [1.08539217]\n",
      " [0.28184845]\n",
      " [1.60439396]\n",
      " [0.14910129]\n",
      " [1.97377387]\n",
      " [1.54448954]\n",
      " [0.39743136]\n",
      " [0.01104423]\n",
      " [1.63092286]\n",
      " [1.41371469]\n",
      " [1.45801434]\n",
      " [1.54254069]\n",
      " [0.1480893 ]\n",
      " [0.71693146]\n",
      " [0.23173812]\n",
      " [1.72620685]\n",
      " [1.24659625]\n",
      " [0.66179605]\n",
      " [0.1271167 ]\n",
      " [0.62196464]\n",
      " [0.65036664]\n",
      " [1.45921236]\n",
      " [1.27511494]\n",
      " [1.77442549]\n",
      " [0.94442985]\n",
      " [0.23918849]\n",
      " [1.42648957]\n",
      " [1.5215701 ]\n",
      " [1.1225544 ]\n",
      " [1.54193436]\n",
      " [0.98759119]\n",
      " [1.04546566]\n",
      " [0.85508204]\n",
      " [0.05083825]\n",
      " [0.21578285]] [[ 6.33428778]\n",
      " [ 9.40527849]\n",
      " [ 8.48372443]\n",
      " [ 5.60438199]\n",
      " [ 4.71643995]\n",
      " [ 5.29307969]\n",
      " [ 5.82639572]\n",
      " [ 8.67878666]\n",
      " [ 6.79819647]\n",
      " [ 7.74667842]\n",
      " [ 5.03890908]\n",
      " [10.14821022]\n",
      " [ 8.46489564]\n",
      " [ 5.7873021 ]\n",
      " [ 5.18802735]\n",
      " [ 6.06907205]\n",
      " [ 5.12340036]\n",
      " [ 6.82087644]\n",
      " [ 6.19956196]\n",
      " [ 4.28385989]\n",
      " [ 7.96723765]\n",
      " [ 5.09801844]\n",
      " [ 5.75798135]\n",
      " [ 5.96358393]\n",
      " [ 5.32104916]\n",
      " [ 8.29041045]\n",
      " [ 4.85532818]\n",
      " [ 6.28312936]\n",
      " [ 7.3932017 ]\n",
      " [ 4.68275333]\n",
      " [ 9.53145501]\n",
      " [ 5.19772255]\n",
      " [ 4.64785995]\n",
      " [ 9.61886731]\n",
      " [ 7.87502098]\n",
      " [ 8.82387021]\n",
      " [ 5.88791282]\n",
      " [ 7.0492748 ]\n",
      " [ 7.91303719]\n",
      " [ 6.9424623 ]\n",
      " [ 4.69751764]\n",
      " [ 5.80238342]\n",
      " [ 5.34915394]\n",
      " [10.20785545]\n",
      " [ 6.34371184]\n",
      " [ 7.06574625]\n",
      " [ 7.27306077]\n",
      " [ 5.71855706]\n",
      " [ 7.86711877]\n",
      " [ 7.29958236]\n",
      " [ 8.82697144]\n",
      " [ 8.08449921]\n",
      " [ 9.73664501]\n",
      " [ 8.86548845]\n",
      " [ 6.03673644]\n",
      " [ 9.59980838]\n",
      " [ 3.4686513 ]\n",
      " [ 5.64948961]\n",
      " [ 3.3519395 ]\n",
      " [ 7.50191639]\n",
      " [ 5.54881045]\n",
      " [ 5.30603267]\n",
      " [ 9.78594227]\n",
      " [ 4.90965564]\n",
      " [ 5.91306699]\n",
      " [ 8.56331925]\n",
      " [ 3.23806212]\n",
      " [ 8.99781574]\n",
      " [ 4.70718666]\n",
      " [10.70314449]\n",
      " [ 7.3965179 ]\n",
      " [ 3.87183748]\n",
      " [ 4.55507427]\n",
      " [ 9.18975324]\n",
      " [ 8.49163691]\n",
      " [ 8.72049122]\n",
      " [ 7.94759736]\n",
      " [ 4.67652161]\n",
      " [ 6.44386684]\n",
      " [ 3.98086294]\n",
      " [11.04439507]\n",
      " [ 8.21362168]\n",
      " [ 4.79408465]\n",
      " [ 5.03790371]\n",
      " [ 4.89121226]\n",
      " [ 6.73818454]\n",
      " [ 9.53623265]\n",
      " [ 7.00466251]\n",
      " [10.28665258]\n",
      " [ 7.24607048]\n",
      " [ 5.53962564]\n",
      " [10.17626171]\n",
      " [ 8.31932218]\n",
      " [ 6.61392702]\n",
      " [ 7.73628865]\n",
      " [ 6.14696329]\n",
      " [ 7.05929527]\n",
      " [ 6.90639808]\n",
      " [ 4.42920556]\n",
      " [ 5.47453181]]\n",
      "X_b:  [[1.         0.74908024]\n",
      " [1.         1.90142861]\n",
      " [1.         1.46398788]\n",
      " [1.         1.19731697]\n",
      " [1.         0.31203728]\n",
      " [1.         0.31198904]\n",
      " [1.         0.11616722]\n",
      " [1.         1.73235229]\n",
      " [1.         1.20223002]\n",
      " [1.         1.41614516]\n",
      " [1.         0.04116899]\n",
      " [1.         1.9398197 ]\n",
      " [1.         1.66488528]\n",
      " [1.         0.42467822]\n",
      " [1.         0.36364993]\n",
      " [1.         0.36680902]\n",
      " [1.         0.60848449]\n",
      " [1.         1.04951286]\n",
      " [1.         0.86389004]\n",
      " [1.         0.58245828]\n",
      " [1.         1.22370579]\n",
      " [1.         0.27898772]\n",
      " [1.         0.5842893 ]\n",
      " [1.         0.73272369]\n",
      " [1.         0.91213997]\n",
      " [1.         1.57035192]\n",
      " [1.         0.39934756]\n",
      " [1.         1.02846888]\n",
      " [1.         1.18482914]\n",
      " [1.         0.09290083]\n",
      " [1.         1.2150897 ]\n",
      " [1.         0.34104825]\n",
      " [1.         0.13010319]\n",
      " [1.         1.89777107]\n",
      " [1.         1.93126407]\n",
      " [1.         1.6167947 ]\n",
      " [1.         0.60922754]\n",
      " [1.         0.19534423]\n",
      " [1.         1.36846605]\n",
      " [1.         0.88030499]\n",
      " [1.         0.24407647]\n",
      " [1.         0.99035382]\n",
      " [1.         0.06877704]\n",
      " [1.         1.8186408 ]\n",
      " [1.         0.51755996]\n",
      " [1.         1.32504457]\n",
      " [1.         0.62342215]\n",
      " [1.         1.04013604]\n",
      " [1.         1.09342056]\n",
      " [1.         0.36970891]\n",
      " [1.         1.93916926]\n",
      " [1.         1.55026565]\n",
      " [1.         1.87899788]\n",
      " [1.         1.7896547 ]\n",
      " [1.         1.19579996]\n",
      " [1.         1.84374847]\n",
      " [1.         0.176985  ]\n",
      " [1.         0.39196572]\n",
      " [1.         0.09045458]\n",
      " [1.         0.65066066]\n",
      " [1.         0.77735458]\n",
      " [1.         0.54269806]\n",
      " [1.         1.65747502]\n",
      " [1.         0.71350665]\n",
      " [1.         0.56186902]\n",
      " [1.         1.08539217]\n",
      " [1.         0.28184845]\n",
      " [1.         1.60439396]\n",
      " [1.         0.14910129]\n",
      " [1.         1.97377387]\n",
      " [1.         1.54448954]\n",
      " [1.         0.39743136]\n",
      " [1.         0.01104423]\n",
      " [1.         1.63092286]\n",
      " [1.         1.41371469]\n",
      " [1.         1.45801434]\n",
      " [1.         1.54254069]\n",
      " [1.         0.1480893 ]\n",
      " [1.         0.71693146]\n",
      " [1.         0.23173812]\n",
      " [1.         1.72620685]\n",
      " [1.         1.24659625]\n",
      " [1.         0.66179605]\n",
      " [1.         0.1271167 ]\n",
      " [1.         0.62196464]\n",
      " [1.         0.65036664]\n",
      " [1.         1.45921236]\n",
      " [1.         1.27511494]\n",
      " [1.         1.77442549]\n",
      " [1.         0.94442985]\n",
      " [1.         0.23918849]\n",
      " [1.         1.42648957]\n",
      " [1.         1.5215701 ]\n",
      " [1.         1.1225544 ]\n",
      " [1.         1.54193436]\n",
      " [1.         0.98759119]\n",
      " [1.         1.04546566]\n",
      " [1.         0.85508204]\n",
      " [1.         0.05083825]\n",
      " [1.         0.21578285]]\n",
      "theta:  [[0.01300189]\n",
      " [1.45353408]]\n",
      "训练得到的参数： [[4.21509616]\n",
      " [2.77011339]]\n"
     ]
    }
   ],
   "source": [
    "import numpy as np\n",
    "\n",
    "# 生成示例数据\n",
    "np.random.seed(42)\n",
    "X = 2 * np.random.rand(100, 1)\n",
    "y = 4 + 3 * X + np.random.randn(100, 1)\n",
    "print('X, y:', X, y)\n",
    "\n",
    "# 添加偏置项\n",
    "X_b = np.c_[np.ones((100, 1)), X]\n",
    "print('X_b: ', X_b)\n",
    "\n",
    "# 初始化参数\n",
    "theta = np.random.randn(2, 1)\n",
    "print('theta: ', theta)\n",
    "\n",
    "# 设置超参数\n",
    "learning_rate = 0.1\n",
    "n_iterations = 1000\n",
    "m = len(X_b)\n",
    "\n",
    "# 梯度下降\n",
    "for iteration in range(n_iterations):\n",
    "    gradients = 2/m * X_b.T.dot(X_b.dot(theta) - y)\n",
    "    theta -= learning_rate * gradients\n",
    "\n",
    "print(\"训练得到的参数：\", theta)\n"
   ]
  },
  {
   "cell_type": "code",
   "execution_count": 8,
   "metadata": {},
   "outputs": [
    {
     "data": {
      "image/png": "[encoded data removed]",
      "text/plain": [
       "<Figure size 640x480 with 1 Axes>"
      ]
     },
     "metadata": {},
     "output_type": "display_data"
    }
   ],
   "source": [
    "import numpy as np\n",
    "import matplotlib.pyplot as plt\n",
    "from scipy.stats import norm\n",
    "\n",
    "mu = 0\n",
    "sigma = 1\n",
    "x = np.linspace(mu - 3 * sigma, mu + 3 * sigma, 100)\n",
    "plt.plot(x, norm.pdf(x, mu, sigma))\n",
    "plt.show()"
   ]
  },
  {
   "cell_type": "code",
   "execution_count": 12,
   "metadata": {},
   "outputs": [
    {
     "name": "stdout",
     "output_type": "stream",
     "text": [
      "[-1.41421356 -0.70710678  0.          0.70710678  1.41421356]\n"
     ]
    }
   ],
   "source": [
    "import numpy as np\n",
    "\n",
    "data = np.array(range(1, 6))\n",
    "mean = np.mean(data)\n",
    "std = np.std(data)\n",
    "z_scores = (data - mean) / std\n",
    "print(z_scores)"
   ]
  },
  {
   "cell_type": "code",
   "execution_count": 14,
   "metadata": {},
   "outputs": [
    {
     "data": {
      "image/png": "[encoded data removed]",
      "text/plain": [
       "<Figure size 640x480 with 1 Axes>"
      ]
     },
     "metadata": {},
     "output_type": "display_data"
    }
   ],
   "source": [
    "import numpy as np\n",
    "import matplotlib.pyplot as plt\n",
    "\n",
    "def sigmoid(x):\n",
    "    return 1 / (1 + np.exp(-x))\n",
    "\n",
    "x = np.linspace(-5, 5, 100)\n",
    "plt.plot(x, sigmoid(x))\n",
    "plt.show()"
   ]
  },
  {
   "cell_type": "code",
   "execution_count": 15,
   "metadata": {},
   "outputs": [
    {
     "name": "stdout",
     "output_type": "stream",
     "text": [
      "-0.9999999999999999\n"
     ]
    }
   ],
   "source": [
    "import numpy as np\n",
    "x = np.array(range(1, 6))\n",
    "y = np.array(range(5, 0, -1))\n",
    "corr = np.corrcoef(x, y)[0, 1]\n",
    "print(corr)"
   ]
  },
  {
   "cell_type": "code",
   "execution_count": 16,
   "metadata": {},
   "outputs": [
    {
     "data": {
      "text/plain": [
       "array([[ 1., -1.],\n",
       "       [-1.,  1.]])"
      ]
     },
     "execution_count": 16,
     "metadata": {},
     "output_type": "execute_result"
    }
   ],
   "source": [
    "np.corrcoef(x, y)"
   ]
  },
  {
   "cell_type": "code",
   "execution_count": 25,
   "metadata": {},
   "outputs": [
    {
     "name": "stderr",
     "output_type": "stream",
     "text": [
      "/var/folders/69/x5x9zy4x22j8jj9p14mcjgpr0000gq/T/ipykernel_28192/3440565190.py:3: UserWarning: Creating a tensor from a list of numpy.ndarrays is extremely slow. Please consider converting the list to a single numpy.ndarray with numpy.array() before converting to a tensor. (Triggered internally at /Users/runner/work/pytorch/pytorch/pytorch/torch/csrc/utils/tensor_new.cpp:257.)\n",
      "  torch.corrcoef(torch.tensor([x, y]))\n"
     ]
    },
    {
     "data": {
      "text/plain": [
       "tensor([[ 1., -1.],\n",
       "        [-1.,  1.]])"
      ]
     },
     "execution_count": 25,
     "metadata": {},
     "output_type": "execute_result"
    }
   ],
   "source": [
    "import torch\n",
    "\n",
    "torch.corrcoef(torch.tensor([x, y]))"
   ]
  },
  {
   "cell_type": "code",
   "execution_count": 22,
   "metadata": {},
   "outputs": [
    {
     "name": "stdout",
     "output_type": "stream",
     "text": [
      "0.9746318461970762\n"
     ]
    }
   ],
   "source": [
    "import numpy as np\n",
    "\n",
    "a = np.array(range(1, 4))\n",
    "b = np.array(range(4, 7))\n",
    "cosine_sim = np.dot(a, b) / (np.linalg.norm(a) * np.linalg.norm(b))\n",
    "print(cosine_sim)"
   ]
  },
  {
   "cell_type": "code",
   "execution_count": 21,
   "metadata": {},
   "outputs": [
    {
     "name": "stdout",
     "output_type": "stream",
     "text": [
      "tensor(0.9746)\n"
     ]
    }
   ],
   "source": [
    "import torch\n",
    "cosine_sim2 = torch.nn.functional.cosine_similarity(torch.tensor(a).float(), torch.tensor(b).float(), dim=0)\n",
    "print(cosine_sim2)"
   ]
  },
  {
   "cell_type": "code",
   "execution_count": 28,
   "metadata": {},
   "outputs": [
    {
     "name": "stdout",
     "output_type": "stream",
     "text": [
      "[1]\n"
     ]
    }
   ],
   "source": [
    "from sklearn.naive_bayes import GaussianNB\n",
    "import numpy as np\n",
    "\n",
    "X = np.array([[-1, -1], [-2, -1], [-3, -2], [1, 1], [2, 1], [3, 2]])\n",
    "y = np.array([1, 1, 1, 2, 2, 2])\n",
    "\n",
    "clf= GaussianNB()\n",
    "clf.fit(X, y)\n",
    "print(clf.predict([[0.8, -1]]))"
   ]
  },
  {
   "cell_type": "code",
   "execution_count": 31,
   "metadata": {},
   "outputs": [
    {
     "name": "stdout",
     "output_type": "stream",
     "text": [
      "4.853866035725822 2.010514467289216\n",
      "(100,)\n"
     ]
    }
   ],
   "source": [
    "import numpy as np\n",
    "\n",
    "data = np.random.normal(5, 2, 100)\n",
    "\n",
    "mu_hat = np.mean(data)\n",
    "sigma_hat = np.std(data)\n",
    "print(mu_hat, sigma_hat)\n",
    "print(data.shape)"
   ]
  },
  {
   "cell_type": "code",
   "execution_count": 39,
   "metadata": {},
   "outputs": [
    {
     "name": "stdout",
     "output_type": "stream",
     "text": [
      "0.6666666666666666\n",
      "1.0\n",
      "0.5\n"
     ]
    }
   ],
   "source": [
    "from sklearn.metrics import *\n",
    "\n",
    "y_true = [0, 1, 1, 0]\n",
    "y_pred = [0, 1, 0, 0]\n",
    "\n",
    "print(f1_score(y_true, y_pred))\n",
    "print(precision_score(y_true, y_pred))\n",
    "print(recall_score(y_true, y_pred))"
   ]
  },
  {
   "cell_type": "code",
   "execution_count": 40,
   "metadata": {},
   "outputs": [
    {
     "data": {
      "image/png": "[encoded data removed]",
      "text/plain": [
       "<Figure size 640x480 with 1 Axes>"
      ]
     },
     "metadata": {},
     "output_type": "display_data"
    }
   ],
   "source": [
    "import numpy as np\n",
    "import matplotlib.pyplot as plt\n",
    "\n",
    "def relu(x):\n",
    "    return np.maximum(0, x)\n",
    "\n",
    "x = np.linspace(-5, 5, 100)\n",
    "plt.plot(x, relu(x))\n",
    "plt.show()"
   ]
  },
  {
   "cell_type": "code",
   "execution_count": 41,
   "metadata": {},
   "outputs": [
    {
     "name": "stdout",
     "output_type": "stream",
     "text": [
      "0.9486081370449679\n"
     ]
    }
   ],
   "source": [
    "from sklearn.metrics import r2_score\n",
    "\n",
    "y_true = [3, -0.5, 2, 7]\n",
    "y_pred = [2.5, 0.0, 2, 8]\n",
    "print(r2_score(y_true, y_pred))"
   ]
  },
  {
   "cell_type": "code",
   "execution_count": 42,
   "metadata": {},
   "outputs": [
    {
     "name": "stdout",
     "output_type": "stream",
     "text": [
      "0.020000000000000004\n"
     ]
    }
   ],
   "source": [
    "from sklearn.metrics import mean_squared_error\n",
    "\n",
    "y_true = [1, 2.5, 3]\n",
    "y_pred = [1.2, 2.4, 2.9]\n",
    "print(mean_squared_error(y_true, y_pred))"
   ]
  },
  {
   "cell_type": "code",
   "execution_count": null,
   "metadata": {},
   "outputs": [
    {
     "name": "stdout",
     "output_type": "stream",
     "text": [
      "[0.        1.9047619]\n"
     ]
    }
   ],
   "source": [
    "from sklearn.linear_model import Ridge\n",
    "\n",
    "X = np.array([[1, 1], [1, 2], [1, 3]])\n",
    "y = np.array([2, 4, 6])\n",
    "\n",
    "model = Ridge(alpha=0.1)\n",
    "model.fit(X, y)\n",
    "print(model.coef_)"
   ]
  },
  {
   "cell_type": "code",
   "execution_count": 44,
   "metadata": {},
   "outputs": [
    {
     "name": "stdout",
     "output_type": "stream",
     "text": [
      "[3. 1.] [[ 0.70710678 -0.70710678]\n",
      " [ 0.70710678  0.70710678]]\n"
     ]
    }
   ],
   "source": [
    "import numpy as np\n",
    "\n",
    "A = np.array([[2, 1], [1, 2]])\n",
    "eigen_values, eigen_vectors = np.linalg.eig(A)\n",
    "\n",
    "print(eigen_values, eigen_vectors)"
   ]
  },
  {
   "cell_type": "code",
   "execution_count": 48,
   "metadata": {},
   "outputs": [
    {
     "name": "stdout",
     "output_type": "stream",
     "text": [
      "tensor([3.+0.j, 1.+0.j]) tensor([[ 0.7071+0.j, -0.7071+0.j],\n",
      "        [ 0.7071+0.j,  0.7071+0.j]])\n"
     ]
    }
   ],
   "source": [
    "import torch\n",
    "\n",
    "# Create a square matrix\n",
    "A = torch.tensor([[2, 1],\n",
    "                  [1, 2]]).float()\n",
    "\n",
    "# Compute eigenvalues and eigenvectors\n",
    "eigenvalues, eigenvectors = torch.linalg.eig(A)\n",
    "print(eigenvalues, eigenvectors)"
   ]
  },
  {
   "cell_type": "code",
   "execution_count": 71,
   "metadata": {},
   "outputs": [
    {
     "name": "stdout",
     "output_type": "stream",
     "text": [
      "1.0296530140645737\n"
     ]
    },
    {
     "name": "stderr",
     "output_type": "stream",
     "text": [
      "/var/folders/69/x5x9zy4x22j8jj9p14mcjgpr0000gq/T/ipykernel_28192/3607094195.py:4: DeprecationWarning: Calling np.sum(generator) is deprecated, and in the future will give a different result. Use np.sum(np.fromiter(generator)) or the python sum builtin instead.\n",
      "  entropy = -np.sum(p * np.log(p) for p in probabilities)\n"
     ]
    }
   ],
   "source": [
    "import numpy as np\n",
    "\n",
    "probabilities = np.array([0.2, 0.3, 0.5])\n",
    "entropy = -np.sum(p * np.log(p) for p in probabilities)\n",
    "print(entropy)"
   ]
  },
  {
   "cell_type": "code",
   "execution_count": 72,
   "metadata": {},
   "outputs": [
    {
     "name": "stdout",
     "output_type": "stream",
     "text": [
      "1.0296530723571777\n"
     ]
    }
   ],
   "source": [
    "import torch\n",
    "probabilities = torch.tensor([0.2, 0.3, 0.5])\n",
    "\n",
    "# 计算熵\n",
    "entropy = torch.special.entr(probabilities).sum()\n",
    "print(entropy.item())"
   ]
  },
  {
   "cell_type": "code",
   "execution_count": 74,
   "metadata": {},
   "outputs": [
    {
     "name": "stdout",
     "output_type": "stream",
     "text": [
      "[1 0 1 0 0 0]\n"
     ]
    }
   ],
   "source": [
    "from sklearn.cluster import KMeans\n",
    "\n",
    "import numpy as np\n",
    "X = np.array([[1, 2], [1, 4], [1, 0], [4, 2], [4, 4], [4, 0]])\n",
    "kmeans = KMeans(n_clusters=2, random_state=0).fit(X)\n",
    "print(kmeans.labels_)"
   ]
  },
  {
   "cell_type": "code",
   "execution_count": 75,
   "metadata": {},
   "outputs": [
    {
     "name": "stdout",
     "output_type": "stream",
     "text": [
      "0.12177727428716867\n"
     ]
    }
   ],
   "source": [
    "import numpy as np\n",
    "p = np.array([0.25, 0.25, 0.25, 0.25])\n",
    "q = np.array([0.1, 0.2, 0.3, 0.4])\n",
    "kl_divergence = np.sum([p_i * np.log(p_i / q_i) for p_i, q_i in zip(p, q)])\n",
    "print(kl_divergence)"
   ]
  },
  {
   "cell_type": "code",
   "execution_count": 76,
   "metadata": {},
   "outputs": [
    {
     "name": "stdout",
     "output_type": "stream",
     "text": [
      "0.10536051565782628\n"
     ]
    }
   ],
   "source": [
    "from sklearn.metrics import log_loss\n",
    "\n",
    "y_true = [0, 1]\n",
    "y_pred = [[0.9, 0.1], [0.1, 0.9]]\n",
    "\n",
    "print(log_loss(y_true, y_pred))"
   ]
  },
  {
   "cell_type": "code",
   "execution_count": 80,
   "metadata": {},
   "outputs": [
    {
     "data": {
      "text/html": [
       "<style>#sk-container-id-1 {\n",
       "  /* Definition of color scheme common for light and dark mode */\n",
       "  --sklearn-color-text: #000;\n",
       "  --sklearn-color-text-muted: #666;\n",
       "  --sklearn-color-line: gray;\n",
       "  /* Definition of color scheme for unfitted estimators */\n",
       "  --sklearn-color-unfitted-level-0: #fff5e6;\n",
       "  --sklearn-color-unfitted-level-1: #f6e4d2;\n",
       "  --sklearn-color-unfitted-level-2: #ffe0b3;\n",
       "  --sklearn-color-unfitted-level-3: chocolate;\n",
       "  /* Definition of color scheme for fitted estimators */\n",
       "  --sklearn-color-fitted-level-0: #f0f8ff;\n",
       "  --sklearn-color-fitted-level-1: #d4ebff;\n",
       "  --sklearn-color-fitted-level-2: #b3dbfd;\n",
       "  --sklearn-color-fitted-level-3: cornflowerblue;\n",
       "\n",
       "  /* Specific color for light theme */\n",
       "  --sklearn-color-text-on-default-background: var(--sg-text-color, var(--theme-code-foreground, var(--jp-content-font-color1, black)));\n",
       "  --sklearn-color-background: var(--sg-background-color, var(--theme-background, var(--jp-layout-color0, white)));\n",
       "  --sklearn-color-border-box: var(--sg-text-color, var(--theme-code-foreground, var(--jp-content-font-color1, black)));\n",
       "  --sklearn-color-icon: #696969;\n",
       "\n",
       "  @media (prefers-color-scheme: dark) {\n",
       "    /* Redefinition of color scheme for dark theme */\n",
       "    --sklearn-color-text-on-default-background: var(--sg-text-color, var(--theme-code-foreground, var(--jp-content-font-color1, white)));\n",
       "    --sklearn-color-background: var(--sg-background-color, var(--theme-background, var(--jp-layout-color0, #111)));\n",
       "    --sklearn-color-border-box: var(--sg-text-color, var(--theme-code-foreground, var(--jp-content-font-color1, white)));\n",
       "    --sklearn-color-icon: #878787;\n",
       "  }\n",
       "}\n",
       "\n",
       "#sk-container-id-1 {\n",
       "  color: var(--sklearn-color-text);\n",
       "}\n",
       "\n",
       "#sk-container-id-1 pre {\n",
       "  padding: 0;\n",
       "}\n",
       "\n",
       "#sk-container-id-1 input.sk-hidden--visually {\n",
       "  border: 0;\n",
       "  clip: rect(1px 1px 1px 1px);\n",
       "  clip: rect(1px, 1px, 1px, 1px);\n",
       "  height: 1px;\n",
       "  margin: -1px;\n",
       "  overflow: hidden;\n",
       "  padding: 0;\n",
       "  position: absolute;\n",
       "  width: 1px;\n",
       "}\n",
       "\n",
       "#sk-container-id-1 div.sk-dashed-wrapped {\n",
       "  border: 1px dashed var(--sklearn-color-line);\n",
       "  margin: 0 0.4em 0.5em 0.4em;\n",
       "  box-sizing: border-box;\n",
       "  padding-bottom: 0.4em;\n",
       "  background-color: var(--sklearn-color-background);\n",
       "}\n",
       "\n",
       "#sk-container-id-1 div.sk-container {\n",
       "  /* jupyter's `normalize.less` sets `[hidden] { display: none; }`\n",
       "     but bootstrap.min.css set `[hidden] { display: none !important; }`\n",
       "     so we also need the `!important` here to be able to override the\n",
       "     default hidden behavior on the sphinx rendered scikit-learn.org.\n",
       "     See: https://github.com/scikit-learn/scikit-learn/issues/21755 */\n",
       "  display: inline-block !important;\n",
       "  position: relative;\n",
       "}\n",
       "\n",
       "#sk-container-id-1 div.sk-text-repr-fallback {\n",
       "  display: none;\n",
       "}\n",
       "\n",
       "div.sk-parallel-item,\n",
       "div.sk-serial,\n",
       "div.sk-item {\n",
       "  /* draw centered vertical line to link estimators */\n",
       "  background-image: linear-gradient(var(--sklearn-color-text-on-default-background), var(--sklearn-color-text-on-default-background));\n",
       "  background-size: 2px 100%;\n",
       "  background-repeat: no-repeat;\n",
       "  background-position: center center;\n",
       "}\n",
       "\n",
       "/* Parallel-specific style estimator block */\n",
       "\n",
       "#sk-container-id-1 div.sk-parallel-item::after {\n",
       "  content: \"\";\n",
       "  width: 100%;\n",
       "  border-bottom: 2px solid var(--sklearn-color-text-on-default-background);\n",
       "  flex-grow: 1;\n",
       "}\n",
       "\n",
       "#sk-container-id-1 div.sk-parallel {\n",
       "  display: flex;\n",
       "  align-items: stretch;\n",
       "  justify-content: center;\n",
       "  background-color: var(--sklearn-color-background);\n",
       "  position: relative;\n",
       "}\n",
       "\n",
       "#sk-container-id-1 div.sk-parallel-item {\n",
       "  display: flex;\n",
       "  flex-direction: column;\n",
       "}\n",
       "\n",
       "#sk-container-id-1 div.sk-parallel-item:first-child::after {\n",
       "  align-self: flex-end;\n",
       "  width: 50%;\n",
       "}\n",
       "\n",
       "#sk-container-id-1 div.sk-parallel-item:last-child::after {\n",
       "  align-self: flex-start;\n",
       "  width: 50%;\n",
       "}\n",
       "\n",
       "#sk-container-id-1 div.sk-parallel-item:only-child::after {\n",
       "  width: 0;\n",
       "}\n",
       "\n",
       "/* Serial-specific style estimator block */\n",
       "\n",
       "#sk-container-id-1 div.sk-serial {\n",
       "  display: flex;\n",
       "  flex-direction: column;\n",
       "  align-items: center;\n",
       "  background-color: var(--sklearn-color-background);\n",
       "  padding-right: 1em;\n",
       "  padding-left: 1em;\n",
       "}\n",
       "\n",
       "\n",
       "/* Toggleable style: style used for estimator/Pipeline/ColumnTransformer box that is\n",
       "clickable and can be expanded/collapsed.\n",
       "- Pipeline and ColumnTransformer use this feature and define the default style\n",
       "- Estimators will overwrite some part of the style using the `sk-estimator` class\n",
       "*/\n",
       "\n",
       "/* Pipeline and ColumnTransformer style (default) */\n",
       "\n",
       "#sk-container-id-1 div.sk-toggleable {\n",
       "  /* Default theme specific background. It is overwritten whether we have a\n",
       "  specific estimator or a Pipeline/ColumnTransformer */\n",
       "  background-color: var(--sklearn-color-background);\n",
       "}\n",
       "\n",
       "/* Toggleable label */\n",
       "#sk-container-id-1 label.sk-toggleable__label {\n",
       "  cursor: pointer;\n",
       "  display: flex;\n",
       "  width: 100%;\n",
       "  margin-bottom: 0;\n",
       "  padding: 0.5em;\n",
       "  box-sizing: border-box;\n",
       "  text-align: center;\n",
       "  align-items: start;\n",
       "  justify-content: space-between;\n",
       "  gap: 0.5em;\n",
       "}\n",
       "\n",
       "#sk-container-id-1 label.sk-toggleable__label .caption {\n",
       "  font-size: 0.6rem;\n",
       "  font-weight: lighter;\n",
       "  color: var(--sklearn-color-text-muted);\n",
       "}\n",
       "\n",
       "#sk-container-id-1 label.sk-toggleable__label-arrow:before {\n",
       "  /* Arrow on the left of the label */\n",
       "  content: \"▸\";\n",
       "  float: left;\n",
       "  margin-right: 0.25em;\n",
       "  color: var(--sklearn-color-icon);\n",
       "}\n",
       "\n",
       "#sk-container-id-1 label.sk-toggleable__label-arrow:hover:before {\n",
       "  color: var(--sklearn-color-text);\n",
       "}\n",
       "\n",
       "/* Toggleable content - dropdown */\n",
       "\n",
       "#sk-container-id-1 div.sk-toggleable__content {\n",
       "  max-height: 0;\n",
       "  max-width: 0;\n",
       "  overflow: hidden;\n",
       "  text-align: left;\n",
       "  /* unfitted */\n",
       "  background-color: var(--sklearn-color-unfitted-level-0);\n",
       "}\n",
       "\n",
       "#sk-container-id-1 div.sk-toggleable__content.fitted {\n",
       "  /* fitted */\n",
       "  background-color: var(--sklearn-color-fitted-level-0);\n",
       "}\n",
       "\n",
       "#sk-container-id-1 div.sk-toggleable__content pre {\n",
       "  margin: 0.2em;\n",
       "  border-radius: 0.25em;\n",
       "  color: var(--sklearn-color-text);\n",
       "  /* unfitted */\n",
       "  background-color: var(--sklearn-color-unfitted-level-0);\n",
       "}\n",
       "\n",
       "#sk-container-id-1 div.sk-toggleable__content.fitted pre {\n",
       "  /* unfitted */\n",
       "  background-color: var(--sklearn-color-fitted-level-0);\n",
       "}\n",
       "\n",
       "#sk-container-id-1 input.sk-toggleable__control:checked~div.sk-toggleable__content {\n",
       "  /* Expand drop-down */\n",
       "  max-height: 200px;\n",
       "  max-width: 100%;\n",
       "  overflow: auto;\n",
       "}\n",
       "\n",
       "#sk-container-id-1 input.sk-toggleable__control:checked~label.sk-toggleable__label-arrow:before {\n",
       "  content: \"▾\";\n",
       "}\n",
       "\n",
       "/* Pipeline/ColumnTransformer-specific style */\n",
       "\n",
       "#sk-container-id-1 div.sk-label input.sk-toggleable__control:checked~label.sk-toggleable__label {\n",
       "  color: var(--sklearn-color-text);\n",
       "  background-color: var(--sklearn-color-unfitted-level-2);\n",
       "}\n",
       "\n",
       "#sk-container-id-1 div.sk-label.fitted input.sk-toggleable__control:checked~label.sk-toggleable__label {\n",
       "  background-color: var(--sklearn-color-fitted-level-2);\n",
       "}\n",
       "\n",
       "/* Estimator-specific style */\n",
       "\n",
       "/* Colorize estimator box */\n",
       "#sk-container-id-1 div.sk-estimator input.sk-toggleable__control:checked~label.sk-toggleable__label {\n",
       "  /* unfitted */\n",
       "  background-color: var(--sklearn-color-unfitted-level-2);\n",
       "}\n",
       "\n",
       "#sk-container-id-1 div.sk-estimator.fitted input.sk-toggleable__control:checked~label.sk-toggleable__label {\n",
       "  /* fitted */\n",
       "  background-color: var(--sklearn-color-fitted-level-2);\n",
       "}\n",
       "\n",
       "#sk-container-id-1 div.sk-label label.sk-toggleable__label,\n",
       "#sk-container-id-1 div.sk-label label {\n",
       "  /* The background is the default theme color */\n",
       "  color: var(--sklearn-color-text-on-default-background);\n",
       "}\n",
       "\n",
       "/* On hover, darken the color of the background */\n",
       "#sk-container-id-1 div.sk-label:hover label.sk-toggleable__label {\n",
       "  color: var(--sklearn-color-text);\n",
       "  background-color: var(--sklearn-color-unfitted-level-2);\n",
       "}\n",
       "\n",
       "/* Label box, darken color on hover, fitted */\n",
       "#sk-container-id-1 div.sk-label.fitted:hover label.sk-toggleable__label.fitted {\n",
       "  color: var(--sklearn-color-text);\n",
       "  background-color: var(--sklearn-color-fitted-level-2);\n",
       "}\n",
       "\n",
       "/* Estimator label */\n",
       "\n",
       "#sk-container-id-1 div.sk-label label {\n",
       "  font-family: monospace;\n",
       "  font-weight: bold;\n",
       "  display: inline-block;\n",
       "  line-height: 1.2em;\n",
       "}\n",
       "\n",
       "#sk-container-id-1 div.sk-label-container {\n",
       "  text-align: center;\n",
       "}\n",
       "\n",
       "/* Estimator-specific */\n",
       "#sk-container-id-1 div.sk-estimator {\n",
       "  font-family: monospace;\n",
       "  border: 1px dotted var(--sklearn-color-border-box);\n",
       "  border-radius: 0.25em;\n",
       "  box-sizing: border-box;\n",
       "  margin-bottom: 0.5em;\n",
       "  /* unfitted */\n",
       "  background-color: var(--sklearn-color-unfitted-level-0);\n",
       "}\n",
       "\n",
       "#sk-container-id-1 div.sk-estimator.fitted {\n",
       "  /* fitted */\n",
       "  background-color: var(--sklearn-color-fitted-level-0);\n",
       "}\n",
       "\n",
       "/* on hover */\n",
       "#sk-container-id-1 div.sk-estimator:hover {\n",
       "  /* unfitted */\n",
       "  background-color: var(--sklearn-color-unfitted-level-2);\n",
       "}\n",
       "\n",
       "#sk-container-id-1 div.sk-estimator.fitted:hover {\n",
       "  /* fitted */\n",
       "  background-color: var(--sklearn-color-fitted-level-2);\n",
       "}\n",
       "\n",
       "/* Specification for estimator info (e.g. \"i\" and \"?\") */\n",
       "\n",
       "/* Common style for \"i\" and \"?\" */\n",
       "\n",
       ".sk-estimator-doc-link,\n",
       "a:link.sk-estimator-doc-link,\n",
       "a:visited.sk-estimator-doc-link {\n",
       "  float: right;\n",
       "  font-size: smaller;\n",
       "  line-height: 1em;\n",
       "  font-family: monospace;\n",
       "  background-color: var(--sklearn-color-background);\n",
       "  border-radius: 1em;\n",
       "  height: 1em;\n",
       "  width: 1em;\n",
       "  text-decoration: none !important;\n",
       "  margin-left: 0.5em;\n",
       "  text-align: center;\n",
       "  /* unfitted */\n",
       "  border: var(--sklearn-color-unfitted-level-1) 1pt solid;\n",
       "  color: var(--sklearn-color-unfitted-level-1);\n",
       "}\n",
       "\n",
       ".sk-estimator-doc-link.fitted,\n",
       "a:link.sk-estimator-doc-link.fitted,\n",
       "a:visited.sk-estimator-doc-link.fitted {\n",
       "  /* fitted */\n",
       "  border: var(--sklearn-color-fitted-level-1) 1pt solid;\n",
       "  color: var(--sklearn-color-fitted-level-1);\n",
       "}\n",
       "\n",
       "/* On hover */\n",
       "div.sk-estimator:hover .sk-estimator-doc-link:hover,\n",
       ".sk-estimator-doc-link:hover,\n",
       "div.sk-label-container:hover .sk-estimator-doc-link:hover,\n",
       ".sk-estimator-doc-link:hover {\n",
       "  /* unfitted */\n",
       "  background-color: var(--sklearn-color-unfitted-level-3);\n",
       "  color: var(--sklearn-color-background);\n",
       "  text-decoration: none;\n",
       "}\n",
       "\n",
       "div.sk-estimator.fitted:hover .sk-estimator-doc-link.fitted:hover,\n",
       ".sk-estimator-doc-link.fitted:hover,\n",
       "div.sk-label-container:hover .sk-estimator-doc-link.fitted:hover,\n",
       ".sk-estimator-doc-link.fitted:hover {\n",
       "  /* fitted */\n",
       "  background-color: var(--sklearn-color-fitted-level-3);\n",
       "  color: var(--sklearn-color-background);\n",
       "  text-decoration: none;\n",
       "}\n",
       "\n",
       "/* Span, style for the box shown on hovering the info icon */\n",
       ".sk-estimator-doc-link span {\n",
       "  display: none;\n",
       "  z-index: 9999;\n",
       "  position: relative;\n",
       "  font-weight: normal;\n",
       "  right: .2ex;\n",
       "  padding: .5ex;\n",
       "  margin: .5ex;\n",
       "  width: min-content;\n",
       "  min-width: 20ex;\n",
       "  max-width: 50ex;\n",
       "  color: var(--sklearn-color-text);\n",
       "  box-shadow: 2pt 2pt 4pt #999;\n",
       "  /* unfitted */\n",
       "  background: var(--sklearn-color-unfitted-level-0);\n",
       "  border: .5pt solid var(--sklearn-color-unfitted-level-3);\n",
       "}\n",
       "\n",
       ".sk-estimator-doc-link.fitted span {\n",
       "  /* fitted */\n",
       "  background: var(--sklearn-color-fitted-level-0);\n",
       "  border: var(--sklearn-color-fitted-level-3);\n",
       "}\n",
       "\n",
       ".sk-estimator-doc-link:hover span {\n",
       "  display: block;\n",
       "}\n",
       "\n",
       "/* \"?\"-specific style due to the `<a>` HTML tag */\n",
       "\n",
       "#sk-container-id-1 a.estimator_doc_link {\n",
       "  float: right;\n",
       "  font-size: 1rem;\n",
       "  line-height: 1em;\n",
       "  font-family: monospace;\n",
       "  background-color: var(--sklearn-color-background);\n",
       "  border-radius: 1rem;\n",
       "  height: 1rem;\n",
       "  width: 1rem;\n",
       "  text-decoration: none;\n",
       "  /* unfitted */\n",
       "  color: var(--sklearn-color-unfitted-level-1);\n",
       "  border: var(--sklearn-color-unfitted-level-1) 1pt solid;\n",
       "}\n",
       "\n",
       "#sk-container-id-1 a.estimator_doc_link.fitted {\n",
       "  /* fitted */\n",
       "  border: var(--sklearn-color-fitted-level-1) 1pt solid;\n",
       "  color: var(--sklearn-color-fitted-level-1);\n",
       "}\n",
       "\n",
       "/* On hover */\n",
       "#sk-container-id-1 a.estimator_doc_link:hover {\n",
       "  /* unfitted */\n",
       "  background-color: var(--sklearn-color-unfitted-level-3);\n",
       "  color: var(--sklearn-color-background);\n",
       "  text-decoration: none;\n",
       "}\n",
       "\n",
       "#sk-container-id-1 a.estimator_doc_link.fitted:hover {\n",
       "  /* fitted */\n",
       "  background-color: var(--sklearn-color-fitted-level-3);\n",
       "}\n",
       "</style><div id=\"sk-container-id-1\" class=\"sk-top-container\"><div class=\"sk-text-repr-fallback\"><pre>SVC()</pre><b>In a Jupyter environment, please rerun this cell to show the HTML representation or trust the notebook. <br />On GitHub, the HTML representation is unable to render, please try loading this page with nbviewer.org.</b></div><div class=\"sk-container\" hidden><div class=\"sk-item\"><div class=\"sk-estimator fitted sk-toggleable\"><input class=\"sk-toggleable__control sk-hidden--visually\" id=\"sk-estimator-id-1\" type=\"checkbox\" checked><label for=\"sk-estimator-id-1\" class=\"sk-toggleable__label fitted sk-toggleable__label-arrow\"><div><div>SVC</div></div><div><a class=\"sk-estimator-doc-link fitted\" rel=\"noreferrer\" target=\"_blank\" href=\"https://scikit-learn.org/1.6/modules/generated/sklearn.svm.SVC.html\">?<span>Documentation for SVC</span></a><span class=\"sk-estimator-doc-link fitted\">i<span>Fitted</span></span></div></label><div class=\"sk-toggleable__content fitted\"><pre>SVC()</pre></div> </div></div></div></div>"
      ],
      "text/plain": [
       "SVC()"
      ]
     },
     "execution_count": 80,
     "metadata": {},
     "output_type": "execute_result"
    }
   ],
   "source": [
    "from sklearn import svm\n",
    "import numpy as np\n",
    "\n",
    "X = np.array([[0, 0], [1, 1]])\n",
    "y = np.array([0, 1])\n",
    "\n",
    "clf = svm.SVC()\n",
    "clf.fit(X, y)"
   ]
  },
  {
   "cell_type": "code",
   "execution_count": 83,
   "metadata": {},
   "outputs": [
    {
     "data": {
      "image/png": "[encoded data removed]",
      "text/plain": [
       "<Figure size 640x480 with 1 Axes>"
      ]
     },
     "metadata": {},
     "output_type": "display_data"
    }
   ],
   "source": [
    "import numpy as np\n",
    "import matplotlib.pyplot as plt\n",
    "\n",
    "np.random.seed(0)\n",
    "x = np.random.rand(100, 1)\n",
    "y = 2 + 3 * x + np.random.randn(100, 1)\n",
    "\n",
    "X = np.hstack((np.ones([100, 1]), x))\n",
    "\n",
    "beta = np.linalg.inv(X.T @ X) @ X.T @ y\n",
    "\n",
    "y_pred = X @ beta\n",
    "\n",
    "plt.scatter(x, y)\n",
    "plt.plot(x, y_pred, 'r')\n",
    "plt.xlabel('x')\n",
    "plt.ylabel('y')\n",
    "plt.show()"
   ]
  },
  {
   "cell_type": "code",
   "execution_count": 86,
   "metadata": {},
   "outputs": [
    {
     "name": "stdout",
     "output_type": "stream",
     "text": [
      "[5.4649857  0.36596619]\n",
      "[[-0.40455358 -0.9145143 ]\n",
      " [-0.9145143   0.40455358]] [[5.4649857  0.        ]\n",
      " [0.         0.36596619]] [[-0.57604844 -0.81741556]\n",
      " [ 0.81741556 -0.57604844]]\n"
     ]
    }
   ],
   "source": [
    "import numpy as np\n",
    "\n",
    "A = np.array([[1, 2], [3, 4]])\n",
    "U, s, Vt = np.linalg.svd(A)\n",
    "print(s)\n",
    "Sigma = np.zeros(A.shape)\n",
    "Sigma[:min(A.shape[0], A.shape[1]), :min(A.shape[0], A.shape[1])] = np.diag(s)\n",
    "print(U, Sigma, Vt)"
   ]
  },
  {
   "cell_type": "code",
   "execution_count": 88,
   "metadata": {},
   "outputs": [
    {
     "name": "stdout",
     "output_type": "stream",
     "text": [
      "[0.5 0.5] 0.5\n"
     ]
    }
   ],
   "source": [
    "from scipy.optimize import minimize\n",
    "\n",
    "def f(x):\n",
    "    return x[0] ** 2 + x[1] ** 2\n",
    "\n",
    "def constraint(x):\n",
    "    return x[0] + x[1] - 1\n",
    "\n",
    "x0 = np.array([0, 0])\n",
    "\n",
    "solution = minimize(f, x0, constraints={'type': 'eq', 'fun': constraint})\n",
    "print(solution.x, solution.fun)"
   ]
  },
  {
   "cell_type": "code",
   "execution_count": 98,
   "metadata": {},
   "outputs": [
    {
     "name": "stdout",
     "output_type": "stream",
     "text": [
      "1.0819778284410282\n"
     ]
    }
   ],
   "source": [
    "import numpy as np\n",
    "\n",
    "p = np.array([0.2, 0.3, 0.5])\n",
    "q = np.array([0.1, 0.4, 0.5])\n",
    "cross_entropy = -np.sum([p_i * np.log(q_i) for (p_i, q_i) in zip(p, q) if p_i > 0 and q_i > 0])\n",
    "print(cross_entropy.item())"
   ]
  }
 ],
 "metadata": {
  "kernelspec": {
   "display_name": ".venv",
   "language": "python",
   "name": "python3"
  },
  "language_info": {
   "codemirror_mode": {
    "name": "ipython",
    "version": 3
   },
   "file_extension": ".py",
   "mimetype": "text/x-python",
   "name": "python",
   "nbconvert_exporter": "python",
   "pygments_lexer": "ipython3",
   "version": "3.9.6"
  }
 },
 "nbformat": 4,
 "nbformat_minor": 2
}
