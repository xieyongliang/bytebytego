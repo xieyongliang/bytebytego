{
 "cells": [
  {
   "cell_type": "code",
   "execution_count": 1,
   "metadata": {},
   "outputs": [
    {
     "data": {
      "text/html": [
       "<div>\n",
       "<style scoped>\n",
       "    .dataframe tbody tr th:only-of-type {\n",
       "        vertical-align: middle;\n",
       "    }\n",
       "\n",
       "    .dataframe tbody tr th {\n",
       "        vertical-align: top;\n",
       "    }\n",
       "\n",
       "    .dataframe thead th {\n",
       "        text-align: right;\n",
       "    }\n",
       "</style>\n",
       "<table border=\"1\" class=\"dataframe\">\n",
       "  <thead>\n",
       "    <tr style=\"text-align: right;\">\n",
       "      <th></th>\n",
       "      <th>carat</th>\n",
       "      <th>cut</th>\n",
       "      <th>color</th>\n",
       "      <th>clarity</th>\n",
       "      <th>depth</th>\n",
       "      <th>table</th>\n",
       "      <th>price</th>\n",
       "      <th>x</th>\n",
       "      <th>y</th>\n",
       "      <th>z</th>\n",
       "    </tr>\n",
       "  </thead>\n",
       "  <tbody>\n",
       "    <tr>\n",
       "      <th>0</th>\n",
       "      <td>0.23</td>\n",
       "      <td>Ideal</td>\n",
       "      <td>E</td>\n",
       "      <td>SI2</td>\n",
       "      <td>61.5</td>\n",
       "      <td>55.0</td>\n",
       "      <td>326</td>\n",
       "      <td>3.95</td>\n",
       "      <td>3.98</td>\n",
       "      <td>2.43</td>\n",
       "    </tr>\n",
       "    <tr>\n",
       "      <th>1</th>\n",
       "      <td>0.21</td>\n",
       "      <td>Premium</td>\n",
       "      <td>E</td>\n",
       "      <td>SI1</td>\n",
       "      <td>59.8</td>\n",
       "      <td>61.0</td>\n",
       "      <td>326</td>\n",
       "      <td>3.89</td>\n",
       "      <td>3.84</td>\n",
       "      <td>2.31</td>\n",
       "    </tr>\n",
       "    <tr>\n",
       "      <th>2</th>\n",
       "      <td>0.23</td>\n",
       "      <td>Good</td>\n",
       "      <td>E</td>\n",
       "      <td>VS1</td>\n",
       "      <td>56.9</td>\n",
       "      <td>65.0</td>\n",
       "      <td>327</td>\n",
       "      <td>4.05</td>\n",
       "      <td>4.07</td>\n",
       "      <td>2.31</td>\n",
       "    </tr>\n",
       "    <tr>\n",
       "      <th>3</th>\n",
       "      <td>0.29</td>\n",
       "      <td>Premium</td>\n",
       "      <td>I</td>\n",
       "      <td>VS2</td>\n",
       "      <td>62.4</td>\n",
       "      <td>58.0</td>\n",
       "      <td>334</td>\n",
       "      <td>4.20</td>\n",
       "      <td>4.23</td>\n",
       "      <td>2.63</td>\n",
       "    </tr>\n",
       "    <tr>\n",
       "      <th>4</th>\n",
       "      <td>0.31</td>\n",
       "      <td>Good</td>\n",
       "      <td>J</td>\n",
       "      <td>SI2</td>\n",
       "      <td>63.3</td>\n",
       "      <td>58.0</td>\n",
       "      <td>335</td>\n",
       "      <td>4.34</td>\n",
       "      <td>4.35</td>\n",
       "      <td>2.75</td>\n",
       "    </tr>\n",
       "  </tbody>\n",
       "</table>\n",
       "</div>"
      ],
      "text/plain": [
       "   carat      cut color clarity  depth  table  price     x     y     z\n",
       "0   0.23    Ideal     E     SI2   61.5   55.0    326  3.95  3.98  2.43\n",
       "1   0.21  Premium     E     SI1   59.8   61.0    326  3.89  3.84  2.31\n",
       "2   0.23     Good     E     VS1   56.9   65.0    327  4.05  4.07  2.31\n",
       "3   0.29  Premium     I     VS2   62.4   58.0    334  4.20  4.23  2.63\n",
       "4   0.31     Good     J     SI2   63.3   58.0    335  4.34  4.35  2.75"
      ]
     },
     "execution_count": 1,
     "metadata": {},
     "output_type": "execute_result"
    }
   ],
   "source": [
    "import seaborn as sns\n",
    "\n",
    "import pandas as pd\n",
    "\n",
    "import numpy as np\n",
    "\n",
    "import matplotlib.pyplot as plt\n",
    "\n",
    "import warnings\n",
    "\n",
    "\n",
    "warnings.filterwarnings(\"ignore\")\n",
    "\n",
    "\n",
    "diamonds = sns.load_dataset(\"diamonds\")\n",
    "\n",
    "diamonds.head()"
   ]
  },
  {
   "cell_type": "code",
   "execution_count": 2,
   "metadata": {},
   "outputs": [
    {
     "data": {
      "text/plain": [
       "pandas.core.frame.DataFrame"
      ]
     },
     "execution_count": 2,
     "metadata": {},
     "output_type": "execute_result"
    }
   ],
   "source": [
    "type(diamonds)"
   ]
  },
  {
   "cell_type": "code",
   "execution_count": 36,
   "metadata": {},
   "outputs": [
    {
     "name": "stdout",
     "output_type": "stream",
     "text": [
      "(53940, 10)\n"
     ]
    },
    {
     "data": {
      "text/html": [
       "<div>\n",
       "<style scoped>\n",
       "    .dataframe tbody tr th:only-of-type {\n",
       "        vertical-align: middle;\n",
       "    }\n",
       "\n",
       "    .dataframe tbody tr th {\n",
       "        vertical-align: top;\n",
       "    }\n",
       "\n",
       "    .dataframe thead th {\n",
       "        text-align: right;\n",
       "    }\n",
       "</style>\n",
       "<table border=\"1\" class=\"dataframe\">\n",
       "  <thead>\n",
       "    <tr style=\"text-align: right;\">\n",
       "      <th></th>\n",
       "      <th>carat</th>\n",
       "      <th>depth</th>\n",
       "      <th>table</th>\n",
       "      <th>price</th>\n",
       "      <th>x</th>\n",
       "      <th>y</th>\n",
       "      <th>z</th>\n",
       "    </tr>\n",
       "  </thead>\n",
       "  <tbody>\n",
       "    <tr>\n",
       "      <th>count</th>\n",
       "      <td>53940.000000</td>\n",
       "      <td>53940.000000</td>\n",
       "      <td>53940.000000</td>\n",
       "      <td>53940.000000</td>\n",
       "      <td>53940.000000</td>\n",
       "      <td>53940.000000</td>\n",
       "      <td>53940.000000</td>\n",
       "    </tr>\n",
       "    <tr>\n",
       "      <th>mean</th>\n",
       "      <td>0.797940</td>\n",
       "      <td>61.749405</td>\n",
       "      <td>57.457184</td>\n",
       "      <td>3932.799722</td>\n",
       "      <td>5.731157</td>\n",
       "      <td>5.734526</td>\n",
       "      <td>3.538734</td>\n",
       "    </tr>\n",
       "    <tr>\n",
       "      <th>std</th>\n",
       "      <td>0.474011</td>\n",
       "      <td>1.432621</td>\n",
       "      <td>2.234491</td>\n",
       "      <td>3989.439738</td>\n",
       "      <td>1.121761</td>\n",
       "      <td>1.142135</td>\n",
       "      <td>0.705699</td>\n",
       "    </tr>\n",
       "    <tr>\n",
       "      <th>min</th>\n",
       "      <td>0.200000</td>\n",
       "      <td>43.000000</td>\n",
       "      <td>43.000000</td>\n",
       "      <td>326.000000</td>\n",
       "      <td>0.000000</td>\n",
       "      <td>0.000000</td>\n",
       "      <td>0.000000</td>\n",
       "    </tr>\n",
       "    <tr>\n",
       "      <th>25%</th>\n",
       "      <td>0.400000</td>\n",
       "      <td>61.000000</td>\n",
       "      <td>56.000000</td>\n",
       "      <td>950.000000</td>\n",
       "      <td>4.710000</td>\n",
       "      <td>4.720000</td>\n",
       "      <td>2.910000</td>\n",
       "    </tr>\n",
       "    <tr>\n",
       "      <th>50%</th>\n",
       "      <td>0.700000</td>\n",
       "      <td>61.800000</td>\n",
       "      <td>57.000000</td>\n",
       "      <td>2401.000000</td>\n",
       "      <td>5.700000</td>\n",
       "      <td>5.710000</td>\n",
       "      <td>3.530000</td>\n",
       "    </tr>\n",
       "    <tr>\n",
       "      <th>75%</th>\n",
       "      <td>1.040000</td>\n",
       "      <td>62.500000</td>\n",
       "      <td>59.000000</td>\n",
       "      <td>5324.250000</td>\n",
       "      <td>6.540000</td>\n",
       "      <td>6.540000</td>\n",
       "      <td>4.040000</td>\n",
       "    </tr>\n",
       "    <tr>\n",
       "      <th>max</th>\n",
       "      <td>5.010000</td>\n",
       "      <td>79.000000</td>\n",
       "      <td>95.000000</td>\n",
       "      <td>18823.000000</td>\n",
       "      <td>10.740000</td>\n",
       "      <td>58.900000</td>\n",
       "      <td>31.800000</td>\n",
       "    </tr>\n",
       "  </tbody>\n",
       "</table>\n",
       "</div>"
      ],
      "text/plain": [
       "              carat         depth         table         price             x  \\\n",
       "count  53940.000000  53940.000000  53940.000000  53940.000000  53940.000000   \n",
       "mean       0.797940     61.749405     57.457184   3932.799722      5.731157   \n",
       "std        0.474011      1.432621      2.234491   3989.439738      1.121761   \n",
       "min        0.200000     43.000000     43.000000    326.000000      0.000000   \n",
       "25%        0.400000     61.000000     56.000000    950.000000      4.710000   \n",
       "50%        0.700000     61.800000     57.000000   2401.000000      5.700000   \n",
       "75%        1.040000     62.500000     59.000000   5324.250000      6.540000   \n",
       "max        5.010000     79.000000     95.000000  18823.000000     10.740000   \n",
       "\n",
       "                  y             z  \n",
       "count  53940.000000  53940.000000  \n",
       "mean       5.734526      3.538734  \n",
       "std        1.142135      0.705699  \n",
       "min        0.000000      0.000000  \n",
       "25%        4.720000      2.910000  \n",
       "50%        5.710000      3.530000  \n",
       "75%        6.540000      4.040000  \n",
       "max       58.900000     31.800000  "
      ]
     },
     "execution_count": 36,
     "metadata": {},
     "output_type": "execute_result"
    }
   ],
   "source": [
    "print(diamonds.shape)\n",
    "diamonds.describe()"
   ]
  },
  {
   "cell_type": "code",
   "execution_count": 3,
   "metadata": {},
   "outputs": [
    {
     "data": {
      "text/html": [
       "<div>\n",
       "<style scoped>\n",
       "    .dataframe tbody tr th:only-of-type {\n",
       "        vertical-align: middle;\n",
       "    }\n",
       "\n",
       "    .dataframe tbody tr th {\n",
       "        vertical-align: top;\n",
       "    }\n",
       "\n",
       "    .dataframe thead th {\n",
       "        text-align: right;\n",
       "    }\n",
       "</style>\n",
       "<table border=\"1\" class=\"dataframe\">\n",
       "  <thead>\n",
       "    <tr style=\"text-align: right;\">\n",
       "      <th></th>\n",
       "      <th>cut</th>\n",
       "      <th>color</th>\n",
       "      <th>clarity</th>\n",
       "    </tr>\n",
       "  </thead>\n",
       "  <tbody>\n",
       "    <tr>\n",
       "      <th>count</th>\n",
       "      <td>53940</td>\n",
       "      <td>53940</td>\n",
       "      <td>53940</td>\n",
       "    </tr>\n",
       "    <tr>\n",
       "      <th>unique</th>\n",
       "      <td>5</td>\n",
       "      <td>7</td>\n",
       "      <td>8</td>\n",
       "    </tr>\n",
       "    <tr>\n",
       "      <th>top</th>\n",
       "      <td>Ideal</td>\n",
       "      <td>G</td>\n",
       "      <td>SI1</td>\n",
       "    </tr>\n",
       "    <tr>\n",
       "      <th>freq</th>\n",
       "      <td>21551</td>\n",
       "      <td>11292</td>\n",
       "      <td>13065</td>\n",
       "    </tr>\n",
       "  </tbody>\n",
       "</table>\n",
       "</div>"
      ],
      "text/plain": [
       "          cut  color clarity\n",
       "count   53940  53940   53940\n",
       "unique      5      7       8\n",
       "top     Ideal      G     SI1\n",
       "freq    21551  11292   13065"
      ]
     },
     "execution_count": 3,
     "metadata": {},
     "output_type": "execute_result"
    }
   ],
   "source": [
    "diamonds.describe(exclude=np.number)"
   ]
  },
  {
   "cell_type": "code",
   "execution_count": 4,
   "metadata": {},
   "outputs": [
    {
     "data": {
      "text/plain": [
       "carat       float64\n",
       "cut        category\n",
       "color      category\n",
       "clarity    category\n",
       "depth       float64\n",
       "table       float64\n",
       "price         int64\n",
       "x           float64\n",
       "y           float64\n",
       "z           float64\n",
       "dtype: object"
      ]
     },
     "execution_count": 4,
     "metadata": {},
     "output_type": "execute_result"
    }
   ],
   "source": [
    "diamonds.dtypes"
   ]
  },
  {
   "cell_type": "code",
   "execution_count": 5,
   "metadata": {},
   "outputs": [],
   "source": [
    "from sklearn.model_selection import train_test_split\n",
    "\n",
    "# Extract feature and target arrays\n",
    "X, y = diamonds.drop('price', axis=1), diamonds[['price']]"
   ]
  },
  {
   "cell_type": "code",
   "execution_count": 6,
   "metadata": {},
   "outputs": [
    {
     "data": {
      "text/plain": [
       "(       carat        cut color clarity  depth  table     x     y     z\n",
       " 0       0.23      Ideal     E     SI2   61.5   55.0  3.95  3.98  2.43\n",
       " 1       0.21    Premium     E     SI1   59.8   61.0  3.89  3.84  2.31\n",
       " 2       0.23       Good     E     VS1   56.9   65.0  4.05  4.07  2.31\n",
       " 3       0.29    Premium     I     VS2   62.4   58.0  4.20  4.23  2.63\n",
       " 4       0.31       Good     J     SI2   63.3   58.0  4.34  4.35  2.75\n",
       " ...      ...        ...   ...     ...    ...    ...   ...   ...   ...\n",
       " 53935   0.72      Ideal     D     SI1   60.8   57.0  5.75  5.76  3.50\n",
       " 53936   0.72       Good     D     SI1   63.1   55.0  5.69  5.75  3.61\n",
       " 53937   0.70  Very Good     D     SI1   62.8   60.0  5.66  5.68  3.56\n",
       " 53938   0.86    Premium     H     SI2   61.0   58.0  6.15  6.12  3.74\n",
       " 53939   0.75      Ideal     D     SI2   62.2   55.0  5.83  5.87  3.64\n",
       " \n",
       " [53940 rows x 9 columns],\n",
       "        price\n",
       " 0        326\n",
       " 1        326\n",
       " 2        327\n",
       " 3        334\n",
       " 4        335\n",
       " ...      ...\n",
       " 53935   2757\n",
       " 53936   2757\n",
       " 53937   2757\n",
       " 53938   2757\n",
       " 53939   2757\n",
       " \n",
       " [53940 rows x 1 columns])"
      ]
     },
     "execution_count": 6,
     "metadata": {},
     "output_type": "execute_result"
    }
   ],
   "source": [
    "X, y"
   ]
  },
  {
   "cell_type": "code",
   "execution_count": 7,
   "metadata": {},
   "outputs": [],
   "source": [
    "# Split the data\n",
    "X_train, X_test, y_train, y_test = train_test_split(X, y, random_state=1)"
   ]
  },
  {
   "cell_type": "code",
   "execution_count": 8,
   "metadata": {},
   "outputs": [
    {
     "data": {
      "text/plain": [
       "0.75"
      ]
     },
     "execution_count": 8,
     "metadata": {},
     "output_type": "execute_result"
    }
   ],
   "source": [
    "len(X_train) / len(X)"
   ]
  },
  {
   "cell_type": "code",
   "execution_count": 9,
   "metadata": {},
   "outputs": [],
   "source": [
    "import xgboost as xgb\n",
    "\n",
    "# Create regression matrices\n",
    "dtrain_reg = xgb.DMatrix(X_train, y_train, enable_categorical=True)\n",
    "dtest_reg = xgb.DMatrix(X_test, y_test, enable_categorical=True)"
   ]
  },
  {
   "cell_type": "code",
   "execution_count": 10,
   "metadata": {},
   "outputs": [],
   "source": [
    "# Define hyperparameters\n",
    "params = {\"objective\": \"reg:squarederror\", \"tree_method\": \"hist\"}"
   ]
  },
  {
   "cell_type": "code",
   "execution_count": 11,
   "metadata": {},
   "outputs": [],
   "source": [
    "n = 100\n",
    "model = xgb.train(\n",
    "   params=params,\n",
    "   dtrain=dtrain_reg,\n",
    "   num_boost_round=n,\n",
    ")"
   ]
  },
  {
   "cell_type": "code",
   "execution_count": 12,
   "metadata": {},
   "outputs": [],
   "source": [
    "from sklearn.metrics import mean_squared_error\n",
    "\n",
    "preds = model.predict(dtest_reg)"
   ]
  },
  {
   "cell_type": "code",
   "execution_count": 13,
   "metadata": {},
   "outputs": [
    {
     "data": {
      "text/plain": [
       "array([ 478.66202, 5764.2817 , 2823.1067 , ..., 3661.879  , 3771.9734 ,\n",
       "       1217.2239 ], dtype=float32)"
      ]
     },
     "execution_count": 13,
     "metadata": {},
     "output_type": "execute_result"
    }
   ],
   "source": [
    "preds"
   ]
  },
  {
   "cell_type": "code",
   "execution_count": 14,
   "metadata": {},
   "outputs": [
    {
     "name": "stdout",
     "output_type": "stream",
     "text": [
      "RMSE of the base model: 552.861\n"
     ]
    }
   ],
   "source": [
    "mse = mean_squared_error(y_test, preds)\n",
    "\n",
    "rmse = np.sqrt(mse)\n",
    "\n",
    "print(f\"RMSE of the base model: {rmse:.3f}\")"
   ]
  },
  {
   "cell_type": "code",
   "execution_count": 15,
   "metadata": {},
   "outputs": [],
   "source": [
    "params = {\"objective\": \"reg:squarederror\", \"tree_method\": \"hist\"}\n",
    "n = 100"
   ]
  },
  {
   "cell_type": "code",
   "execution_count": 16,
   "metadata": {},
   "outputs": [
    {
     "name": "stdout",
     "output_type": "stream",
     "text": [
      "[0]\ttrain-rmse:2874.49146\tvalidation-rmse:2817.90814\n",
      "[1]\ttrain-rmse:2092.16823\tvalidation-rmse:2054.95423\n",
      "[2]\ttrain-rmse:1552.12189\tvalidation-rmse:1527.41146\n",
      "[3]\ttrain-rmse:1187.31114\tvalidation-rmse:1177.15463\n",
      "[4]\ttrain-rmse:945.00210\tvalidation-rmse:946.17688\n",
      "[5]\ttrain-rmse:787.62126\tvalidation-rmse:798.39908\n",
      "[6]\ttrain-rmse:688.66889\tvalidation-rmse:710.32109\n",
      "[7]\ttrain-rmse:626.37436\tvalidation-rmse:654.59324\n",
      "[8]\ttrain-rmse:589.02723\tvalidation-rmse:624.32385\n",
      "[9]\ttrain-rmse:565.28857\tvalidation-rmse:604.03193\n",
      "[10]\ttrain-rmse:548.36512\tvalidation-rmse:592.03160\n",
      "[11]\ttrain-rmse:538.14853\tvalidation-rmse:582.18167\n",
      "[12]\ttrain-rmse:531.04914\tvalidation-rmse:576.99121\n",
      "[13]\ttrain-rmse:523.65001\tvalidation-rmse:571.84722\n",
      "[14]\ttrain-rmse:517.23823\tvalidation-rmse:569.23515\n",
      "[15]\ttrain-rmse:512.12649\tvalidation-rmse:565.44660\n",
      "[16]\ttrain-rmse:508.28365\tvalidation-rmse:564.20517\n",
      "[17]\ttrain-rmse:504.66129\tvalidation-rmse:562.61534\n",
      "[18]\ttrain-rmse:499.97005\tvalidation-rmse:560.30264\n",
      "[19]\ttrain-rmse:494.48271\tvalidation-rmse:559.37058\n",
      "[20]\ttrain-rmse:491.09887\tvalidation-rmse:558.53485\n",
      "[21]\ttrain-rmse:488.67767\tvalidation-rmse:558.01994\n",
      "[22]\ttrain-rmse:486.38305\tvalidation-rmse:557.90492\n",
      "[23]\ttrain-rmse:485.23885\tvalidation-rmse:557.46372\n",
      "[24]\ttrain-rmse:481.70580\tvalidation-rmse:557.26104\n",
      "[25]\ttrain-rmse:477.84385\tvalidation-rmse:557.44475\n",
      "[26]\ttrain-rmse:475.85525\tvalidation-rmse:557.00398\n",
      "[27]\ttrain-rmse:473.46346\tvalidation-rmse:555.82572\n",
      "[28]\ttrain-rmse:473.07109\tvalidation-rmse:555.54059\n",
      "[29]\ttrain-rmse:471.53967\tvalidation-rmse:555.64677\n",
      "[30]\ttrain-rmse:469.58201\tvalidation-rmse:555.51015\n",
      "[31]\ttrain-rmse:468.38248\tvalidation-rmse:555.09184\n",
      "[32]\ttrain-rmse:465.80510\tvalidation-rmse:554.40012\n",
      "[33]\ttrain-rmse:462.80731\tvalidation-rmse:553.73134\n",
      "[34]\ttrain-rmse:461.55972\tvalidation-rmse:553.66604\n",
      "[35]\ttrain-rmse:460.88174\tvalidation-rmse:553.47266\n",
      "[36]\ttrain-rmse:460.37961\tvalidation-rmse:553.18168\n",
      "[37]\ttrain-rmse:459.42502\tvalidation-rmse:552.82279\n",
      "[38]\ttrain-rmse:458.74026\tvalidation-rmse:552.64012\n",
      "[39]\ttrain-rmse:454.93848\tvalidation-rmse:554.62723\n",
      "[40]\ttrain-rmse:454.32953\tvalidation-rmse:554.45666\n",
      "[41]\ttrain-rmse:451.48873\tvalidation-rmse:554.97367\n",
      "[42]\ttrain-rmse:448.26382\tvalidation-rmse:554.21823\n",
      "[43]\ttrain-rmse:446.54504\tvalidation-rmse:553.76871\n",
      "[44]\ttrain-rmse:444.38477\tvalidation-rmse:553.32179\n",
      "[45]\ttrain-rmse:444.09226\tvalidation-rmse:553.12523\n",
      "[46]\ttrain-rmse:441.77056\tvalidation-rmse:553.43138\n",
      "[47]\ttrain-rmse:441.28968\tvalidation-rmse:553.24490\n",
      "[48]\ttrain-rmse:440.68400\tvalidation-rmse:553.41364\n",
      "[49]\ttrain-rmse:439.33453\tvalidation-rmse:554.04242\n",
      "[50]\ttrain-rmse:438.68033\tvalidation-rmse:554.13365\n",
      "[51]\ttrain-rmse:437.68290\tvalidation-rmse:553.58025\n",
      "[52]\ttrain-rmse:436.71053\tvalidation-rmse:553.30673\n",
      "[53]\ttrain-rmse:434.28573\tvalidation-rmse:553.84978\n",
      "[54]\ttrain-rmse:432.87550\tvalidation-rmse:553.45943\n",
      "[55]\ttrain-rmse:431.51684\tvalidation-rmse:553.31997\n",
      "[56]\ttrain-rmse:430.30951\tvalidation-rmse:553.04415\n",
      "[57]\ttrain-rmse:429.26858\tvalidation-rmse:552.87916\n",
      "[58]\ttrain-rmse:427.93117\tvalidation-rmse:552.90857\n",
      "[59]\ttrain-rmse:426.77640\tvalidation-rmse:552.10687\n",
      "[60]\ttrain-rmse:425.38361\tvalidation-rmse:551.57888\n",
      "[61]\ttrain-rmse:424.17922\tvalidation-rmse:551.35863\n",
      "[62]\ttrain-rmse:422.67471\tvalidation-rmse:551.41574\n",
      "[63]\ttrain-rmse:422.11624\tvalidation-rmse:551.02024\n",
      "[64]\ttrain-rmse:421.16250\tvalidation-rmse:550.59397\n",
      "[65]\ttrain-rmse:419.55450\tvalidation-rmse:550.50352\n",
      "[66]\ttrain-rmse:419.10641\tvalidation-rmse:550.65366\n",
      "[67]\ttrain-rmse:418.64267\tvalidation-rmse:550.57419\n",
      "[68]\ttrain-rmse:417.91313\tvalidation-rmse:550.29199\n",
      "[69]\ttrain-rmse:416.57651\tvalidation-rmse:549.86646\n",
      "[70]\ttrain-rmse:414.71115\tvalidation-rmse:549.26109\n",
      "[71]\ttrain-rmse:414.61971\tvalidation-rmse:549.19929\n",
      "[72]\ttrain-rmse:413.81899\tvalidation-rmse:548.80542\n",
      "[73]\ttrain-rmse:411.89991\tvalidation-rmse:548.93475\n",
      "[74]\ttrain-rmse:411.68046\tvalidation-rmse:548.84060\n",
      "[75]\ttrain-rmse:410.81587\tvalidation-rmse:549.08106\n",
      "[76]\ttrain-rmse:409.82299\tvalidation-rmse:548.92528\n",
      "[77]\ttrain-rmse:408.69013\tvalidation-rmse:549.13324\n",
      "[78]\ttrain-rmse:407.66442\tvalidation-rmse:548.67918\n",
      "[79]\ttrain-rmse:406.45158\tvalidation-rmse:548.64845\n",
      "[80]\ttrain-rmse:405.41008\tvalidation-rmse:549.03952\n",
      "[81]\ttrain-rmse:402.29233\tvalidation-rmse:549.59993\n",
      "[82]\ttrain-rmse:401.69583\tvalidation-rmse:550.01179\n",
      "[83]\ttrain-rmse:400.87249\tvalidation-rmse:549.96468\n",
      "[84]\ttrain-rmse:399.97057\tvalidation-rmse:550.02323\n",
      "[85]\ttrain-rmse:397.44832\tvalidation-rmse:550.10937\n",
      "[86]\ttrain-rmse:396.02569\tvalidation-rmse:550.12466\n",
      "[87]\ttrain-rmse:395.12048\tvalidation-rmse:550.48523\n",
      "[88]\ttrain-rmse:393.18959\tvalidation-rmse:551.49566\n",
      "[89]\ttrain-rmse:391.66809\tvalidation-rmse:551.48338\n",
      "[90]\ttrain-rmse:391.04269\tvalidation-rmse:551.87206\n",
      "[91]\ttrain-rmse:390.41813\tvalidation-rmse:551.91370\n",
      "[92]\ttrain-rmse:390.24110\tvalidation-rmse:551.79173\n",
      "[93]\ttrain-rmse:389.86101\tvalidation-rmse:551.62759\n",
      "[94]\ttrain-rmse:388.93985\tvalidation-rmse:552.04577\n",
      "[95]\ttrain-rmse:388.88729\tvalidation-rmse:552.02025\n",
      "[96]\ttrain-rmse:388.29836\tvalidation-rmse:552.15520\n",
      "[97]\ttrain-rmse:386.21618\tvalidation-rmse:551.58851\n",
      "[98]\ttrain-rmse:384.82886\tvalidation-rmse:551.77700\n",
      "[99]\ttrain-rmse:383.48826\tvalidation-rmse:552.86131\n"
     ]
    }
   ],
   "source": [
    "evals = [(dtrain_reg, \"train\"), (dtest_reg, \"validation\")]\n",
    "\n",
    "model = xgb.train(\n",
    "   params=params,\n",
    "   dtrain=dtrain_reg,\n",
    "   num_boost_round=n,\n",
    "   evals=evals,\n",
    ")"
   ]
  }
 ],
 "metadata": {
  "kernelspec": {
   "display_name": ".venv",
   "language": "python",
   "name": "python3"
  },
  "language_info": {
   "codemirror_mode": {
    "name": "ipython",
    "version": 3
   },
   "file_extension": ".py",
   "mimetype": "text/x-python",
   "name": "python",
   "nbconvert_exporter": "python",
   "pygments_lexer": "ipython3",
   "version": "3.9.6"
  }
 },
 "nbformat": 4,
 "nbformat_minor": 2
}
