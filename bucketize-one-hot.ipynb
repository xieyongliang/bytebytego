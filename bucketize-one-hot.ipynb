{
 "cells": [
  {
   "cell_type": "code",
   "execution_count": 3,
   "metadata": {},
   "outputs": [
    {
     "name": "stdout",
     "output_type": "stream",
     "text": [
      "   age age_bucket\n",
      "0   15       0-18\n",
      "1   25      19-30\n",
      "2   35      31-40\n",
      "3   45      41-50\n",
      "4   55      51-60\n",
      "5   65     61-100\n",
      "6   75     61-100\n"
     ]
    }
   ],
   "source": [
    "import pandas as pd\n",
    "import numpy as np\n",
    "\n",
    "# 假设我们有一个年龄列\n",
    "data = {'age': [15, 25, 35, 45, 55, 65, 75]}\n",
    "df = pd.DataFrame(data)\n",
    "\n",
    "# 定义年龄的区间（桶）\n",
    "bins = [0, 18, 30, 40, 50, 60, 100]  # 可以根据需求定义区间\n",
    "labels = ['0-18', '19-30', '31-40', '41-50', '51-60', '61-100']  # 每个区间对应的标签\n",
    "\n",
    "# 将年龄按区间进行分桶\n",
    "df['age_bucket'] = pd.cut(df['age'], bins=bins, labels=labels, right=True)\n",
    "\n",
    "print(df)"
   ]
  },
  {
   "cell_type": "code",
   "execution_count": 4,
   "metadata": {},
   "outputs": [
    {
     "name": "stdout",
     "output_type": "stream",
     "text": [
      "   age_0-18  age_19-30  age_31-40  age_41-50  age_51-60  age_61-100\n",
      "0      True      False      False      False      False       False\n",
      "1     False       True      False      False      False       False\n",
      "2     False      False       True      False      False       False\n",
      "3     False      False      False       True      False       False\n",
      "4     False      False      False      False       True       False\n",
      "5     False      False      False      False      False        True\n",
      "6     False      False      False      False      False        True\n"
     ]
    }
   ],
   "source": [
    "# 对分桶后的年龄区间进行 one-hot 编码\n",
    "df_one_hot = pd.get_dummies(df['age_bucket'], prefix='age')\n",
    "\n",
    "print(df_one_hot)\n"
   ]
  },
  {
   "cell_type": "code",
   "execution_count": 5,
   "metadata": {},
   "outputs": [
    {
     "name": "stdout",
     "output_type": "stream",
     "text": [
      "   age age_bucket  age_0-18  age_19-30  age_31-40  age_41-50  age_51-60  \\\n",
      "0   15       0-18      True      False      False      False      False   \n",
      "1   25      19-30     False       True      False      False      False   \n",
      "2   35      31-40     False      False       True      False      False   \n",
      "3   45      41-50     False      False      False       True      False   \n",
      "4   55      51-60     False      False      False      False       True   \n",
      "5   65     61-100     False      False      False      False      False   \n",
      "6   75     61-100     False      False      False      False      False   \n",
      "\n",
      "   age_61-100  \n",
      "0       False  \n",
      "1       False  \n",
      "2       False  \n",
      "3       False  \n",
      "4       False  \n",
      "5        True  \n",
      "6        True  \n"
     ]
    }
   ],
   "source": [
    "# 将 one-hot 编码的列与原始数据合并\n",
    "df_final = pd.concat([df, df_one_hot], axis=1)\n",
    "\n",
    "print(df_final)"
   ]
  },
  {
   "cell_type": "code",
   "execution_count": 6,
   "metadata": {},
   "outputs": [
    {
     "data": {
      "text/html": [
       "<div>\n",
       "<style scoped>\n",
       "    .dataframe tbody tr th:only-of-type {\n",
       "        vertical-align: middle;\n",
       "    }\n",
       "\n",
       "    .dataframe tbody tr th {\n",
       "        vertical-align: top;\n",
       "    }\n",
       "\n",
       "    .dataframe thead th {\n",
       "        text-align: right;\n",
       "    }\n",
       "</style>\n",
       "<table border=\"1\" class=\"dataframe\">\n",
       "  <thead>\n",
       "    <tr style=\"text-align: right;\">\n",
       "      <th></th>\n",
       "      <th>age_bucket</th>\n",
       "      <th>age_0-18</th>\n",
       "      <th>age_19-30</th>\n",
       "      <th>age_31-40</th>\n",
       "      <th>age_41-50</th>\n",
       "      <th>age_51-60</th>\n",
       "      <th>age_61-100</th>\n",
       "    </tr>\n",
       "  </thead>\n",
       "  <tbody>\n",
       "    <tr>\n",
       "      <th>0</th>\n",
       "      <td>0-18</td>\n",
       "      <td>True</td>\n",
       "      <td>False</td>\n",
       "      <td>False</td>\n",
       "      <td>False</td>\n",
       "      <td>False</td>\n",
       "      <td>False</td>\n",
       "    </tr>\n",
       "    <tr>\n",
       "      <th>1</th>\n",
       "      <td>19-30</td>\n",
       "      <td>False</td>\n",
       "      <td>True</td>\n",
       "      <td>False</td>\n",
       "      <td>False</td>\n",
       "      <td>False</td>\n",
       "      <td>False</td>\n",
       "    </tr>\n",
       "    <tr>\n",
       "      <th>2</th>\n",
       "      <td>31-40</td>\n",
       "      <td>False</td>\n",
       "      <td>False</td>\n",
       "      <td>True</td>\n",
       "      <td>False</td>\n",
       "      <td>False</td>\n",
       "      <td>False</td>\n",
       "    </tr>\n",
       "    <tr>\n",
       "      <th>3</th>\n",
       "      <td>41-50</td>\n",
       "      <td>False</td>\n",
       "      <td>False</td>\n",
       "      <td>False</td>\n",
       "      <td>True</td>\n",
       "      <td>False</td>\n",
       "      <td>False</td>\n",
       "    </tr>\n",
       "    <tr>\n",
       "      <th>4</th>\n",
       "      <td>51-60</td>\n",
       "      <td>False</td>\n",
       "      <td>False</td>\n",
       "      <td>False</td>\n",
       "      <td>False</td>\n",
       "      <td>True</td>\n",
       "      <td>False</td>\n",
       "    </tr>\n",
       "    <tr>\n",
       "      <th>5</th>\n",
       "      <td>61-100</td>\n",
       "      <td>False</td>\n",
       "      <td>False</td>\n",
       "      <td>False</td>\n",
       "      <td>False</td>\n",
       "      <td>False</td>\n",
       "      <td>True</td>\n",
       "    </tr>\n",
       "    <tr>\n",
       "      <th>6</th>\n",
       "      <td>61-100</td>\n",
       "      <td>False</td>\n",
       "      <td>False</td>\n",
       "      <td>False</td>\n",
       "      <td>False</td>\n",
       "      <td>False</td>\n",
       "      <td>True</td>\n",
       "    </tr>\n",
       "  </tbody>\n",
       "</table>\n",
       "</div>"
      ],
      "text/plain": [
       "  age_bucket  age_0-18  age_19-30  age_31-40  age_41-50  age_51-60  age_61-100\n",
       "0       0-18      True      False      False      False      False       False\n",
       "1      19-30     False       True      False      False      False       False\n",
       "2      31-40     False      False       True      False      False       False\n",
       "3      41-50     False      False      False       True      False       False\n",
       "4      51-60     False      False      False      False       True       False\n",
       "5     61-100     False      False      False      False      False        True\n",
       "6     61-100     False      False      False      False      False        True"
      ]
     },
     "execution_count": 6,
     "metadata": {},
     "output_type": "execute_result"
    }
   ],
   "source": [
    "df_final.drop(columns=['age'], axis=1)"
   ]
  }
 ],
 "metadata": {
  "kernelspec": {
   "display_name": ".venv",
   "language": "python",
   "name": "python3"
  },
  "language_info": {
   "codemirror_mode": {
    "name": "ipython",
    "version": 3
   },
   "file_extension": ".py",
   "mimetype": "text/x-python",
   "name": "python",
   "nbconvert_exporter": "python",
   "pygments_lexer": "ipython3",
   "version": "3.9.6"
  }
 },
 "nbformat": 4,
 "nbformat_minor": 2
}
