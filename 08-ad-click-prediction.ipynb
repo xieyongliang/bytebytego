{
 "cells": [
  {
   "cell_type": "code",
   "execution_count": 1,
   "metadata": {},
   "outputs": [],
   "source": [
    "import torch\n",
    "import torch.nn as nn\n",
    "import torch.optim as optim\n",
    "from torch.utils.data import DataLoader, Dataset\n",
    "import pandas as pd\n",
    "import numpy as np\n",
    "from sklearn.preprocessing import LabelEncoder, MinMaxScaler\n",
    "\n",
    "# Sample Dataset Preparation\n",
    "class AdDataset(Dataset):\n",
    "    def __init__(self, df, user_features, ad_features, dense_features, label):\n",
    "        self.df = df\n",
    "        self.user_features = user_features\n",
    "        self.ad_features = ad_features\n",
    "        self.dense_features = dense_features\n",
    "        self.label = label\n",
    "        \n",
    "        # Label encoding for categorical features\n",
    "        self.label_encoders = {col: LabelEncoder().fit(self.df[col]) for col in user_features + ad_features}\n",
    "        for col, le in self.label_encoders.items():\n",
    "            self.df[col] = le.transform(self.df[col])\n",
    "        \n",
    "        # MinMax scaling for dense features\n",
    "        self.scaler = MinMaxScaler().fit(self.df[dense_features])\n",
    "        self.df[dense_features] = self.scaler.transform(self.df[dense_features])\n",
    "    \n",
    "    def __len__(self):\n",
    "        return len(self.df)\n",
    "    \n",
    "    def __getitem__(self, idx):\n",
    "        row = self.df.iloc[idx]\n",
    "        user = torch.tensor(row[self.user_features].values, dtype=torch.long)\n",
    "        ad = torch.tensor(row[self.ad_features].values, dtype=torch.long)\n",
    "        dense = torch.tensor(row[self.dense_features].values, dtype=torch.float)\n",
    "        label = torch.tensor(row[self.label], dtype=torch.float)\n",
    "        return user, ad, dense, label\n",
    "\n",
    "# DeepFM Model\n",
    "class DeepFM(nn.Module):\n",
    "    def __init__(self, user_feat_dims, ad_feat_dims, dense_feat_dim, embedding_dim, hidden_units):\n",
    "        super(DeepFM, self).__init__()\n",
    "        self.embedding_dim = embedding_dim\n",
    "        \n",
    "        # Embedding layers for user and ad features\n",
    "        self.user_embeddings = nn.ModuleList([nn.Embedding(feat_dim, embedding_dim) for feat_dim in user_feat_dims])\n",
    "        #print('0', self.user_embeddings)\n",
    "        self.ad_embeddings = nn.ModuleList([nn.Embedding(feat_dim, embedding_dim) for feat_dim in ad_feat_dims])\n",
    "        #print('1', self.ad_embeddings)\n",
    "        # Dense feature layers\n",
    "        self.dense_linear = nn.Linear(dense_feat_dim, 1)\n",
    "        #print('2', self.dense_linear)\n",
    "        \n",
    "        # FM part: second-order interactions\n",
    "        self.fm_first_order = nn.ModuleList([nn.Embedding(feat_dim, 1) for feat_dim in user_feat_dims + ad_feat_dims])\n",
    "\n",
    "        # DNN part: multi-layer perceptron\n",
    "        input_dim = len(user_feat_dims + ad_feat_dims) * embedding_dim + dense_feat_dim\n",
    "        self.mlp = nn.Sequential(\n",
    "            nn.Linear(input_dim, hidden_units[0]),\n",
    "            nn.ReLU(),\n",
    "            nn.Linear(hidden_units[0], hidden_units[1]),\n",
    "            nn.ReLU(),\n",
    "            nn.Linear(hidden_units[1], 1)\n",
    "        )\n",
    "        #print('4', self.mlp)\n",
    "        \n",
    "        # Output layer\n",
    "        self.output_layer = nn.Sigmoid()\n",
    "\n",
    "    def forward(self, user_inputs, ad_inputs, dense_inputs):\n",
    "        # Embedding lookup for user and ad features\n",
    "        user_embeds = [emb(user_inputs[:, i]) for i, emb in enumerate(self.user_embeddings)] # (num_features, batch_size, embed_dim)\n",
    "        ad_embeds = [emb(ad_inputs[:, i]) for i, emb in enumerate(self.ad_embeddings)] # (num_features, batch_size, embed_dim)\n",
    "        \n",
    "        # FM first-order term\n",
    "        first_order_user = [emb(user_inputs[:, i]) for i, emb in enumerate(self.fm_first_order[:len(user_embeds)])]\n",
    "        first_order_ad = [emb(ad_inputs[:, i]) for i, emb in enumerate(self.fm_first_order[len(user_embeds):])]\n",
    "        fm_first_order = torch.cat(first_order_user + first_order_ad, dim=1)\n",
    "        #print('5', fm_first_order)\n",
    "        \n",
    "        # FM second-order interactions (factorized part)\n",
    "        user_embeds = torch.stack(user_embeds, dim=1)  # (batch_size, num_features, embed_dim)\n",
    "        ad_embeds = torch.stack(ad_embeds, dim=1)\n",
    "        fm_embeddings = torch.cat([user_embeds, ad_embeds], dim=1)\n",
    "        fm_sum_square = torch.sum(fm_embeddings, dim=1) ** 2\n",
    "        fm_square_sum = torch.sum(fm_embeddings ** 2, dim=1)\n",
    "        fm_second_order = 0.5 * (fm_sum_square - fm_square_sum)\n",
    "        print(user_embeds.shape, ad_embeds.shape, fm_embeddings.shape, fm_sum_square.shape, fm_square_sum.shape, fm_second_order.shape)\n",
    "        \n",
    "        # DNN part\n",
    "        dnn_input = torch.cat([torch.flatten(user_embeds, start_dim=1), torch.flatten(ad_embeds, start_dim=1), dense_inputs], dim=1)\n",
    "        print(dnn_input.shape)\n",
    "        dnn_output = self.mlp(dnn_input)\n",
    "        print(dnn_output.shape)\n",
    "        \n",
    "        # Combine FM and DNN parts\n",
    "        total_output = fm_first_order.sum(dim=1) + fm_second_order.sum(dim=1) + dnn_output.squeeze(1)\n",
    "        return self.output_layer(total_output)\n",
    "\n",
    "# Sample Training Script\n",
    "def train_model(df, user_features, ad_features, dense_features, label, epochs=5):\n",
    "    dataset = AdDataset(df, user_features, ad_features, dense_features, label)\n",
    "    dataloader = DataLoader(dataset, batch_size=32, shuffle=True)\n",
    "    \n",
    "    model = DeepFM(user_feat_dims=[df[col].nunique() for col in user_features],\n",
    "                   ad_feat_dims=[df[col].nunique() for col in ad_features],\n",
    "                   dense_feat_dim=len(dense_features),\n",
    "                   embedding_dim=8,\n",
    "                   hidden_units=[128, 64])\n",
    "    \n",
    "    optimizer = optim.Adam(model.parameters(), lr=0.001)\n",
    "    criterion = nn.BCELoss()\n",
    "    \n",
    "    for epoch in range(epochs):\n",
    "        model.train()\n",
    "        total_loss = 0.0\n",
    "        for user_inputs, ad_inputs, dense_inputs, labels in dataloader:\n",
    "            optimizer.zero_grad()\n",
    "            outputs = model(user_inputs, ad_inputs, dense_inputs)\n",
    "            loss = criterion(outputs, labels)\n",
    "            loss.backward()\n",
    "            optimizer.step()\n",
    "            total_loss += loss.item()\n",
    "        \n",
    "        print(f\"Epoch {epoch+1}/{epochs}, Loss: {total_loss/len(dataloader)}\")"
   ]
  },
  {
   "cell_type": "code",
   "execution_count": 2,
   "metadata": {},
   "outputs": [],
   "source": [
    "# Sample data\n",
    "data = {\n",
    "    'user_id': [1, 2, 1, 3],\n",
    "    'ad_id': [101, 102, 103, 101],\n",
    "    'age': [25, 35, 25, 45],\n",
    "    'income': [50000, 60000, 50000, 80000],\n",
    "    'clicked': [1, 0, 1, 0]\n",
    "}\n",
    "df = pd.DataFrame(data)\n",
    "\n",
    "# Defining feature sets\n",
    "user_features = ['user_id']\n",
    "ad_features = ['ad_id']\n",
    "dense_features = ['age', 'income']\n",
    "label = 'clicked'"
   ]
  },
  {
   "cell_type": "code",
   "execution_count": 4,
   "metadata": {},
   "outputs": [
    {
     "name": "stdout",
     "output_type": "stream",
     "text": [
      "torch.Size([4, 1, 8]) torch.Size([4, 1, 8]) torch.Size([4, 2, 8]) torch.Size([4, 8]) torch.Size([4, 8]) torch.Size([4, 8])\n",
      "torch.Size([4, 18])\n",
      "torch.Size([4, 1])\n",
      "Epoch 1/5, Loss: 1.8068265914916992\n",
      "torch.Size([4, 1, 8]) torch.Size([4, 1, 8]) torch.Size([4, 2, 8]) torch.Size([4, 8]) torch.Size([4, 8]) torch.Size([4, 8])\n",
      "torch.Size([4, 18])\n",
      "torch.Size([4, 1])\n",
      "Epoch 2/5, Loss: 1.7710514068603516\n",
      "torch.Size([4, 1, 8]) torch.Size([4, 1, 8]) torch.Size([4, 2, 8]) torch.Size([4, 8]) torch.Size([4, 8]) torch.Size([4, 8])\n",
      "torch.Size([4, 18])\n",
      "torch.Size([4, 1])\n",
      "Epoch 3/5, Loss: 1.7372453212738037\n",
      "torch.Size([4, 1, 8]) torch.Size([4, 1, 8]) torch.Size([4, 2, 8]) torch.Size([4, 8]) torch.Size([4, 8]) torch.Size([4, 8])\n",
      "torch.Size([4, 18])\n",
      "torch.Size([4, 1])\n",
      "Epoch 4/5, Loss: 1.704978346824646\n",
      "torch.Size([4, 1, 8]) torch.Size([4, 1, 8]) torch.Size([4, 2, 8]) torch.Size([4, 8]) torch.Size([4, 8]) torch.Size([4, 8])\n",
      "torch.Size([4, 18])\n",
      "torch.Size([4, 1])\n",
      "Epoch 5/5, Loss: 1.6745109558105469\n"
     ]
    }
   ],
   "source": [
    "# Training the model\n",
    "train_model(df, user_features, ad_features, dense_features, label, epochs=5)"
   ]
  },
  {
   "cell_type": "code",
   "execution_count": 5,
   "metadata": {},
   "outputs": [
    {
     "data": {
      "text/html": [
       "<div>\n",
       "<style scoped>\n",
       "    .dataframe tbody tr th:only-of-type {\n",
       "        vertical-align: middle;\n",
       "    }\n",
       "\n",
       "    .dataframe tbody tr th {\n",
       "        vertical-align: top;\n",
       "    }\n",
       "\n",
       "    .dataframe thead th {\n",
       "        text-align: right;\n",
       "    }\n",
       "</style>\n",
       "<table border=\"1\" class=\"dataframe\">\n",
       "  <thead>\n",
       "    <tr style=\"text-align: right;\">\n",
       "      <th></th>\n",
       "      <th>age</th>\n",
       "      <th>income</th>\n",
       "    </tr>\n",
       "  </thead>\n",
       "  <tbody>\n",
       "    <tr>\n",
       "      <th>0</th>\n",
       "      <td>0.0</td>\n",
       "      <td>0.000000</td>\n",
       "    </tr>\n",
       "    <tr>\n",
       "      <th>1</th>\n",
       "      <td>0.5</td>\n",
       "      <td>0.333333</td>\n",
       "    </tr>\n",
       "    <tr>\n",
       "      <th>2</th>\n",
       "      <td>0.0</td>\n",
       "      <td>0.000000</td>\n",
       "    </tr>\n",
       "    <tr>\n",
       "      <th>3</th>\n",
       "      <td>1.0</td>\n",
       "      <td>1.000000</td>\n",
       "    </tr>\n",
       "  </tbody>\n",
       "</table>\n",
       "</div>"
      ],
      "text/plain": [
       "   age    income\n",
       "0  0.0  0.000000\n",
       "1  0.5  0.333333\n",
       "2  0.0  0.000000\n",
       "3  1.0  1.000000"
      ]
     },
     "execution_count": 5,
     "metadata": {},
     "output_type": "execute_result"
    }
   ],
   "source": [
    "df[dense_features]"
   ]
  },
  {
   "cell_type": "code",
   "execution_count": 6,
   "metadata": {},
   "outputs": [
    {
     "data": {
      "text/plain": [
       "array([[0.        , 0.        ],\n",
       "       [0.5       , 0.33333333],\n",
       "       [0.        , 0.        ],\n",
       "       [1.        , 1.        ]])"
      ]
     },
     "execution_count": 6,
     "metadata": {},
     "output_type": "execute_result"
    }
   ],
   "source": [
    "scaler = MinMaxScaler().fit(df[dense_features])\n",
    "scaler.transform(df[dense_features])"
   ]
  },
  {
   "cell_type": "code",
   "execution_count": 7,
   "metadata": {},
   "outputs": [
    {
     "data": {
      "text/plain": [
       "array([0, 1, 0, 2])"
      ]
     },
     "execution_count": 7,
     "metadata": {},
     "output_type": "execute_result"
    }
   ],
   "source": [
    "le = LabelEncoder().fit(torch.tensor(df.user_id))\n",
    "le.transform(df.user_id)"
   ]
  }
 ],
 "metadata": {
  "kernelspec": {
   "display_name": ".venv",
   "language": "python",
   "name": "python3"
  },
  "language_info": {
   "codemirror_mode": {
    "name": "ipython",
    "version": 3
   },
   "file_extension": ".py",
   "mimetype": "text/x-python",
   "name": "python",
   "nbconvert_exporter": "python",
   "pygments_lexer": "ipython3",
   "version": "3.9.6"
  }
 },
 "nbformat": 4,
 "nbformat_minor": 2
}
