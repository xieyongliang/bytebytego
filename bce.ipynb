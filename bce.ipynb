{
 "cells": [
  {
   "cell_type": "code",
   "execution_count": 2,
   "metadata": {},
   "outputs": [
    {
     "name": "stdout",
     "output_type": "stream",
     "text": [
      "BCE Loss: 0.18388254940509796\n"
     ]
    }
   ],
   "source": [
    "import torch\n",
    "import torch.nn as nn\n",
    "\n",
    "# Initialize BCE Loss function\n",
    "bce_loss = nn.BCELoss()\n",
    "\n",
    "# Example of target values (binary labels)\n",
    "targets = torch.tensor([1., 0., 1.])\n",
    "\n",
    "# Example of model outputs (sigmoid output, so between 0 and 1)\n",
    "outputs = torch.tensor([0.8, 0.2, 0.9])\n",
    "\n",
    "# Calculate BCE Loss\n",
    "loss = bce_loss(outputs, targets)\n",
    "print(f\"BCE Loss: {loss.item()}\")"
   ]
  },
  {
   "cell_type": "code",
   "execution_count": 3,
   "metadata": {},
   "outputs": [
    {
     "name": "stdout",
     "output_type": "stream",
     "text": [
      "BCE Loss: 0.18388254940509796\n"
     ]
    }
   ],
   "source": [
    "import torch\n",
    "import torch.nn.functional as F\n",
    "\n",
    "# Example of target values (binary labels)\n",
    "targets = torch.tensor([1., 0., 1.])\n",
    "\n",
    "# Example of model outputs (sigmoid output, so between 0 and 1)\n",
    "outputs = torch.tensor([0.8, 0.2, 0.9])\n",
    "\n",
    "# Calculate BCE Loss using the functional API\n",
    "loss = F.binary_cross_entropy(outputs, targets)\n",
    "print(f\"BCE Loss: {loss.item()}\")"
   ]
  },
  {
   "cell_type": "code",
   "execution_count": 3,
   "metadata": {},
   "outputs": [
    {
     "name": "stdout",
     "output_type": "stream",
     "text": [
      "BCEWithLogits Loss: 0.12564291059970856\n"
     ]
    }
   ],
   "source": [
    "import torch\n",
    "import torch.nn as nn\n",
    "\n",
    "# Initialize BCEWithLogitsLoss (more stable for raw outputs)\n",
    "bce_loss = nn.BCELoss()\n",
    "\n",
    "# Example of target values (binary labels)\n",
    "targets = torch.tensor([1., 0., 1.])\n",
    "\n",
    "# Example of raw model outputs (before sigmoid)\n",
    "outputs = torch.tensor([2.0, -1.5, 3.0])\n",
    "\n",
    "# Calculate BCEWithLogitsLoss (no need to apply sigmoid)\n",
    "loss = bce_loss(torch.nn.functional.sigmoid(outputs), targets)\n",
    "print(f\"BCEWithLogits Loss: {loss.item()}\")"
   ]
  },
  {
   "cell_type": "code",
   "execution_count": 4,
   "metadata": {},
   "outputs": [
    {
     "name": "stdout",
     "output_type": "stream",
     "text": [
      "BCEWithLogits Loss: 0.12564288079738617\n"
     ]
    }
   ],
   "source": [
    "import torch\n",
    "import torch.nn as nn\n",
    "\n",
    "# Initialize BCEWithLogitsLoss (more stable for raw outputs)\n",
    "bce_loss = nn.BCEWithLogitsLoss()\n",
    "\n",
    "# Example of target values (binary labels)\n",
    "targets = torch.tensor([1., 0., 1.])\n",
    "\n",
    "# Example of raw model outputs (before sigmoid)\n",
    "outputs = torch.tensor([2.0, -1.5, 3.0])\n",
    "\n",
    "# Calculate BCEWithLogitsLoss (no need to apply sigmoid)\n",
    "loss = bce_loss(outputs, targets)\n",
    "print(f\"BCEWithLogits Loss: {loss.item()}\")"
   ]
  }
 ],
 "metadata": {
  "kernelspec": {
   "display_name": ".venv",
   "language": "python",
   "name": "python3"
  },
  "language_info": {
   "codemirror_mode": {
    "name": "ipython",
    "version": 3
   },
   "file_extension": ".py",
   "mimetype": "text/x-python",
   "name": "python",
   "nbconvert_exporter": "python",
   "pygments_lexer": "ipython3",
   "version": "3.9.6"
  }
 },
 "nbformat": 4,
 "nbformat_minor": 2
}
